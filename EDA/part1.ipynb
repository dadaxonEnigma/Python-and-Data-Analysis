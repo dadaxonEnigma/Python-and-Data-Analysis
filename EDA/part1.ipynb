{
 "cells": [
  {
   "cell_type": "markdown",
   "id": "b878870c",
   "metadata": {},
   "source": [
    "### Основы Numpy: массивы и векторные вычисления"
   ]
  },
  {
   "cell_type": "code",
   "execution_count": 2,
   "id": "94ea985c",
   "metadata": {},
   "outputs": [],
   "source": [
    "import numpy as np\n",
    "\n",
    "my_arr = np.arange(1_000_000)\n",
    "my_list = list(range(1_000_000))"
   ]
  },
  {
   "cell_type": "code",
   "execution_count": 4,
   "id": "708e9ee3",
   "metadata": {},
   "outputs": [
    {
     "name": "stdout",
     "output_type": "stream",
     "text": [
      "2.17 ms ± 41.1 µs per loop (mean ± std. dev. of 7 runs, 100 loops each)\n"
     ]
    }
   ],
   "source": [
    "%timeit my_arr * 2"
   ]
  },
  {
   "cell_type": "code",
   "execution_count": 5,
   "id": "b1b8a951",
   "metadata": {},
   "outputs": [
    {
     "name": "stdout",
     "output_type": "stream",
     "text": [
      "99.1 ms ± 2.54 ms per loop (mean ± std. dev. of 7 runs, 10 loops each)\n"
     ]
    }
   ],
   "source": [
    "%timeit [x * 2 for x in my_list]"
   ]
  },
  {
   "cell_type": "markdown",
   "id": "eb18d381",
   "metadata": {},
   "source": [
    "## 4.1 Numpy ndarray"
   ]
  },
  {
   "cell_type": "code",
   "execution_count": 8,
   "id": "0d6a2298",
   "metadata": {},
   "outputs": [
    {
     "data": {
      "text/plain": [
       "(array([[ 15.,   0.,  -1.],\n",
       "        [  0., -30.,  65.]]),\n",
       " array([[ 3. ,  0. , -0.2],\n",
       "        [ 0. , -6. , 13. ]]))"
      ]
     },
     "execution_count": 8,
     "metadata": {},
     "output_type": "execute_result"
    }
   ],
   "source": [
    "data = np.array([[1.5,0,-0.1],[0,-3,6.5]])\n",
    "data * 10, data + data"
   ]
  },
  {
   "cell_type": "code",
   "execution_count": 10,
   "id": "36f881f5",
   "metadata": {},
   "outputs": [
    {
     "data": {
      "text/plain": [
       "((2, 3), dtype('float64'))"
      ]
     },
     "execution_count": 10,
     "metadata": {},
     "output_type": "execute_result"
    }
   ],
   "source": [
    "# dtype, shape\n",
    "data.shape, data.dtype"
   ]
  },
  {
   "cell_type": "markdown",
   "id": "ba20266e",
   "metadata": {},
   "source": [
    "### Создание ndarray"
   ]
  },
  {
   "cell_type": "code",
   "execution_count": 12,
   "id": "00a958bc",
   "metadata": {},
   "outputs": [
    {
     "data": {
      "text/plain": [
       "([11, 43, 52, 0, 4.5], array([11. , 43. , 52. ,  0. ,  4.5]))"
      ]
     },
     "execution_count": 12,
     "metadata": {},
     "output_type": "execute_result"
    }
   ],
   "source": [
    "data1 = [11,43,52,0,4.5]\n",
    "arr1 = np.array(data1)\n",
    "type(data1), type(arr1)\n",
    "data1, arr1 "
   ]
  },
  {
   "cell_type": "code",
   "execution_count": 22,
   "id": "125ff6f3",
   "metadata": {},
   "outputs": [
    {
     "data": {
      "text/plain": [
       "array([[1, 2, 3, 4],\n",
       "       [5, 6, 7, 8]])"
      ]
     },
     "execution_count": 22,
     "metadata": {},
     "output_type": "execute_result"
    }
   ],
   "source": [
    "data2 = [[1,2,3,4],[5,6,7,8]]\n",
    "arr2 = np.array(data2)\n",
    "arr2 "
   ]
  },
  {
   "cell_type": "code",
   "execution_count": 23,
   "id": "5c4d6e26",
   "metadata": {},
   "outputs": [
    {
     "data": {
      "text/plain": [
       "(1, 2)"
      ]
     },
     "execution_count": 23,
     "metadata": {},
     "output_type": "execute_result"
    }
   ],
   "source": [
    "# ndim\n",
    "arr1.ndim, arr2.ndim"
   ]
  },
  {
   "cell_type": "markdown",
   "id": "6a3b5548",
   "metadata": {},
   "source": [
    "функция np.array() сасмостоятельно определяет тип, если не указать самому"
   ]
  },
  {
   "cell_type": "code",
   "execution_count": 24,
   "id": "623bdbad",
   "metadata": {},
   "outputs": [
    {
     "data": {
      "text/plain": [
       "(dtype('float64'), dtype('int32'))"
      ]
     },
     "execution_count": 24,
     "metadata": {},
     "output_type": "execute_result"
    }
   ],
   "source": [
    "arr1.dtype, arr2.dtype"
   ]
  },
  {
   "cell_type": "markdown",
   "id": "f6106338",
   "metadata": {},
   "source": [
    "np.zeros, np.ones, np.empty"
   ]
  },
  {
   "cell_type": "code",
   "execution_count": 28,
   "id": "884c5c05",
   "metadata": {},
   "outputs": [
    {
     "data": {
      "text/plain": [
       "array([[6.23042070e-307, 7.56587584e-307, 1.37961302e-306,\n",
       "        6.23053614e-307, 1.69121639e-306],\n",
       "       [9.34613185e-307, 1.24610383e-306, 1.11259940e-306,\n",
       "        1.60220393e-306, 8.01097889e-307],\n",
       "       [1.37961234e-306, 1.78021527e-306, 8.34450230e-308,\n",
       "        3.91792476e-317, 0.00000000e+000]])"
      ]
     },
     "execution_count": 28,
     "metadata": {},
     "output_type": "execute_result"
    }
   ],
   "source": [
    "np.zeros(10)\n",
    "np.zeros((2,3))\n",
    "np.empty((3,5))"
   ]
  },
  {
   "cell_type": "markdown",
   "id": "4763273a",
   "metadata": {},
   "source": [
    " Функция numpy.arange – вариант встроенной в Python функции range, только \n",
    "возвращаемым значением является массив:"
   ]
  },
  {
   "cell_type": "code",
   "execution_count": 30,
   "id": "7b583ec1",
   "metadata": {},
   "outputs": [
    {
     "data": {
      "text/plain": [
       "(range, numpy.ndarray)"
      ]
     },
     "execution_count": 30,
     "metadata": {},
     "output_type": "execute_result"
    }
   ],
   "source": [
    "np.arange(10)\n",
    "type(range(10)), type(np.arange(10))"
   ]
  },
  {
   "cell_type": "markdown",
   "id": "ff629ff7",
   "metadata": {},
   "source": [
    "asarray, ones_like, zeros_like, empty_like, full, eye, identity"
   ]
  },
  {
   "cell_type": "code",
   "execution_count": 32,
   "id": "a9b10eea",
   "metadata": {},
   "outputs": [
    {
     "data": {
      "text/plain": [
       "array([[1., 0., 0.],\n",
       "       [0., 1., 0.],\n",
       "       [0., 0., 1.]])"
      ]
     },
     "execution_count": 32,
     "metadata": {},
     "output_type": "execute_result"
    }
   ],
   "source": [
    "# np.eye(n, m=None, k=0)\n",
    "np.eye(3)\n",
    "#  То же, что np.eye(n), но только квадратную и без сдвигов.\n",
    "np.identity(3) "
   ]
  },
  {
   "cell_type": "markdown",
   "id": "2c1eba56",
   "metadata": {},
   "source": [
    "### Типы данных для ndarray"
   ]
  },
  {
   "cell_type": "code",
   "execution_count": 35,
   "id": "434fc65e",
   "metadata": {},
   "outputs": [
    {
     "data": {
      "text/plain": [
       "(dtype('float64'), dtype('int32'))"
      ]
     },
     "execution_count": 35,
     "metadata": {},
     "output_type": "execute_result"
    }
   ],
   "source": [
    "arr1 = np.array([1,2,3], dtype = np.float64)\n",
    "arr2 = np.array([1,2,3], dtype = np.int32)\n",
    "arr1.dtype, arr2.dtype"
   ]
  },
  {
   "cell_type": "markdown",
   "id": "fa5b81b2",
   "metadata": {},
   "source": [
    "int32 --> float64"
   ]
  },
  {
   "cell_type": "code",
   "execution_count": 38,
   "id": "3fbacc4f",
   "metadata": {},
   "outputs": [
    {
     "data": {
      "text/plain": [
       "(dtype('int32'), dtype('float64'))"
      ]
     },
     "execution_count": 38,
     "metadata": {},
     "output_type": "execute_result"
    }
   ],
   "source": [
    "arr = np.array([1,2,3,4,5])\n",
    "float_arr = arr.astype(np.float64)\n",
    "arr.dtype, float_arr.dtype"
   ]
  },
  {
   "cell_type": "markdown",
   "id": "35d919aa",
   "metadata": {},
   "source": [
    "float64 --> int32"
   ]
  },
  {
   "cell_type": "code",
   "execution_count": 43,
   "id": "8c8379f4",
   "metadata": {},
   "outputs": [
    {
     "data": {
      "text/plain": [
       "array([ 3, -1, -2,  4])"
      ]
     },
     "execution_count": 43,
     "metadata": {},
     "output_type": "execute_result"
    }
   ],
   "source": [
    "arr = np.array([3.7,-1.2,-2.6,4.5])\n",
    "arr.astype(np.int32)"
   ]
  },
  {
   "cell_type": "markdown",
   "id": "35c863d2",
   "metadata": {},
   "source": [
    " Если имеется массив строк, представляющих целые числа, то astype позволит \n",
    "преобразовать их в числовую форму:"
   ]
  },
  {
   "cell_type": "code",
   "execution_count": 55,
   "id": "0d69521a",
   "metadata": {},
   "outputs": [
    {
     "data": {
      "text/plain": [
       "array([ 1.25, -9.6 , 42.  ])"
      ]
     },
     "execution_count": 55,
     "metadata": {},
     "output_type": "execute_result"
    }
   ],
   "source": [
    "numeric_strings = np.array(['1.25','-9.6','42'],dtype = np.string_)\n",
    "numeric_strings.astype(np.float64)"
   ]
  },
  {
   "cell_type": "markdown",
   "id": "e72374c1",
   "metadata": {},
   "source": [
    "Можно также использовать атрибут dtype другого массива"
   ]
  },
  {
   "cell_type": "code",
   "execution_count": 59,
   "id": "600c4b98",
   "metadata": {},
   "outputs": [
    {
     "data": {
      "text/plain": [
       "array([0., 1., 2., 3., 4., 5., 6., 7., 8., 9.])"
      ]
     },
     "execution_count": 59,
     "metadata": {},
     "output_type": "execute_result"
    }
   ],
   "source": [
    "int_array = np.arange(10)\n",
    "calibers = np.array([.22,.270,.357,.380,.44,.50], dtype=np.float64)\n",
    "\n",
    "int_array.astype(calibers.dtype)"
   ]
  },
  {
   "cell_type": "markdown",
   "id": "f6e60f3e",
   "metadata": {},
   "source": [
    "!!  При вызове astype всегда создается новый массив (данные копи\n",
    "руются), даже если новый dtype не отличается от старого"
   ]
  },
  {
   "cell_type": "markdown",
   "id": "cc6a68d9",
   "metadata": {},
   "source": [
    "### Арифметические операции с массивами Numpy\n",
    "Массивы важны, потому что позволяют выразить операции над совокупностя\n",
    "ми данных без выписывания циклов for. Обычно это называется векториза\n",
    "цией. Любая арифметическая операция над массивами одинакового размера \n",
    "применяется к соответственным элементам"
   ]
  },
  {
   "cell_type": "code",
   "execution_count": 62,
   "id": "6d24d324",
   "metadata": {},
   "outputs": [
    {
     "data": {
      "text/plain": [
       "array([[0, 0, 0],\n",
       "       [0, 0, 0]])"
      ]
     },
     "execution_count": 62,
     "metadata": {},
     "output_type": "execute_result"
    }
   ],
   "source": [
    "arr = np.array([[1,2,3],[4,5,6]])\n",
    "arr * arr \n",
    "arr - arr"
   ]
  },
  {
   "cell_type": "markdown",
   "id": "51462d1d",
   "metadata": {},
   "source": [
    " Арифметические операции, в которых участвует скаляр, применяются \n",
    "к каждому элементу массива:"
   ]
  },
  {
   "cell_type": "code",
   "execution_count": 65,
   "id": "8e36f233",
   "metadata": {},
   "outputs": [
    {
     "data": {
      "text/plain": [
       "array([[ 1,  4,  9],\n",
       "       [16, 25, 36]])"
      ]
     },
     "execution_count": 65,
     "metadata": {},
     "output_type": "execute_result"
    }
   ],
   "source": [
    "1 / arr\n",
    "arr ** 2"
   ]
  },
  {
   "cell_type": "markdown",
   "id": "b6649ec6",
   "metadata": {},
   "source": [
    "Сравнение массивов одинакового размера дает булев массив"
   ]
  },
  {
   "cell_type": "code",
   "execution_count": 66,
   "id": "6c77d995",
   "metadata": {},
   "outputs": [
    {
     "data": {
      "text/plain": [
       "array([[False,  True, False],\n",
       "       [ True, False,  True]])"
      ]
     },
     "execution_count": 66,
     "metadata": {},
     "output_type": "execute_result"
    }
   ],
   "source": [
    "arr2 = np.array([[0,4,1],[7,2,12]])\n",
    "arr2 > arr"
   ]
  },
  {
   "cell_type": "markdown",
   "id": "5811305e",
   "metadata": {},
   "source": [
    " Индексирование массивов NumPy – обширная тема, поскольку подмножество \n",
    "массива или его отдельные элементы можно выбрать различными способами. \n",
    "С одномерными массивами все просто; на поверхностный взгляд, они ведут \n",
    "себя как списки Python"
   ]
  },
  {
   "cell_type": "code",
   "execution_count": 72,
   "id": "38e05c87",
   "metadata": {},
   "outputs": [
    {
     "data": {
      "text/plain": [
       "array([ 0,  1,  2,  3,  4, 12, 12, 12,  8,  9])"
      ]
     },
     "execution_count": 72,
     "metadata": {},
     "output_type": "execute_result"
    }
   ],
   "source": [
    "arr = np.arange(10)\n",
    "arr[5]\n",
    "arr[5:8]\n",
    "arr[5:8] = 12\n",
    "arr"
   ]
  },
  {
   "cell_type": "markdown",
   "id": "7f3be5fd",
   "metadata": {},
   "source": [
    " Важнейшее отличие от встроенных в Python списков состоит \n",
    "в том, что срез массива является представлением исходного мас\n",
    "сива. Это означает, что данные на самом деле не копируются, \n",
    "а любые изменения, внесенные в представление, попадают и в \n",
    "исходный массив."
   ]
  },
  {
   "cell_type": "code",
   "execution_count": 77,
   "id": "26276f35",
   "metadata": {},
   "outputs": [
    {
     "data": {
      "text/plain": [
       "array([    0,     1,     2,     3,     4,    12, 12345,    12,     8,\n",
       "           9])"
      ]
     },
     "execution_count": 77,
     "metadata": {},
     "output_type": "execute_result"
    }
   ],
   "source": [
    "arr_slice = arr[5:8]\n",
    "# если теперь изменить значения в arr_slice, то изменения отразятся и на исходном массиве arr\n",
    "arr_slice[1] = 12345\n",
    "arr"
   ]
  },
  {
   "cell_type": "markdown",
   "id": "ca1bf6b5",
   "metadata": {},
   "source": [
    "Чтобы получить копию, а не представление среза массива, \n",
    "нужно выполнить операцию копирования явно, например \n",
    "arr[5:8].copy(). Ниже мы увидим, что pandas работает так же."
   ]
  },
  {
   "cell_type": "markdown",
   "id": "0be92997",
   "metadata": {},
   "source": [
    " Для массивов большей размерности и вариантов тоже больше. В случае дву\n",
    "мерного массива элемент с заданным индексом является не скаляром, а одно\n",
    "мерным массивом"
   ]
  },
  {
   "cell_type": "code",
   "execution_count": 80,
   "id": "1cc7671f",
   "metadata": {},
   "outputs": [
    {
     "data": {
      "text/plain": [
       "array([7, 8, 9])"
      ]
     },
     "execution_count": 80,
     "metadata": {},
     "output_type": "execute_result"
    }
   ],
   "source": [
    "arr2d = np.array([[1, 2, 3], [4, 5, 6], [7, 8, 9]])\n",
    "arr2d[2]"
   ]
  },
  {
   "cell_type": "markdown",
   "id": "4740c7e3",
   "metadata": {},
   "source": [
    " К отдельным элементам можно обращаться рекурсивно. Но это слишком \n",
    "громоздко, поэтому для выбора одного элемента можно указать список ин\n",
    "дексов через запятую. Таким образом, следующие две конструкции эквива\n",
    "лентны"
   ]
  },
  {
   "cell_type": "code",
   "execution_count": 85,
   "id": "3f7e7c0e",
   "metadata": {},
   "outputs": [
    {
     "data": {
      "text/plain": [
       "3"
      ]
     },
     "execution_count": 85,
     "metadata": {},
     "output_type": "execute_result"
    }
   ],
   "source": [
    "arr2d[0][2]\n",
    "arr2d[0,2]"
   ]
  },
  {
   "cell_type": "markdown",
   "id": "3fd69cb6",
   "metadata": {},
   "source": [
    " Если при работе с многомерным массивом опустить несколько последних \n",
    "индексов, то будет возвращен объект ndarray меньшей размерности, содержа\n",
    "щий данные по указанным при индексировании осям. Так, пусть имеется мас\n",
    "сив arr3d размерности 2×2×3:"
   ]
  },
  {
   "cell_type": "code",
   "execution_count": 89,
   "id": "ab580d3f",
   "metadata": {},
   "outputs": [
    {
     "data": {
      "text/plain": [
       "array([[[ 1,  2,  3],\n",
       "        [ 4,  5,  6]],\n",
       "\n",
       "       [[ 7,  8,  9],\n",
       "        [10, 11, 12]]])"
      ]
     },
     "execution_count": 89,
     "metadata": {},
     "output_type": "execute_result"
    }
   ],
   "source": [
    "arr3d = np.array([[[1,2,3],[4,5,6]],[[7,8,9],[10,11,12]]])\n",
    "arr3d"
   ]
  },
  {
   "cell_type": "markdown",
   "id": "60798461",
   "metadata": {},
   "source": [
    "Тогда arr3d[0] – массив размерности 2×3"
   ]
  },
  {
   "cell_type": "code",
   "execution_count": 90,
   "id": "7c261463",
   "metadata": {},
   "outputs": [
    {
     "data": {
      "text/plain": [
       "array([[1, 2, 3],\n",
       "       [4, 5, 6]])"
      ]
     },
     "execution_count": 90,
     "metadata": {},
     "output_type": "execute_result"
    }
   ],
   "source": [
    "arr3d[0]"
   ]
  },
  {
   "cell_type": "markdown",
   "id": "83ae3927",
   "metadata": {},
   "source": [
    "### Индексирование и срезы"
   ]
  },
  {
   "cell_type": "code",
   "execution_count": 92,
   "id": "4b6d1949",
   "metadata": {},
   "outputs": [
    {
     "data": {
      "text/plain": [
       "array([[2, 3],\n",
       "       [5, 6]])"
      ]
     },
     "execution_count": 92,
     "metadata": {},
     "output_type": "execute_result"
    }
   ],
   "source": [
    "# arr2d\n",
    "arr2d[:2]\n",
    "# можно указать несколько срезов - как несколько индексов\n",
    "arr2d[:2,1:]"
   ]
  },
  {
   "cell_type": "markdown",
   "id": "69c545d4",
   "metadata": {},
   "source": [
    "### Транспонирование массивов и перестановка осей"
   ]
  },
  {
   "cell_type": "code",
   "execution_count": 7,
   "id": "e5b68f48",
   "metadata": {},
   "outputs": [
    {
     "data": {
      "text/plain": [
       "array([[ 0,  5, 10],\n",
       "       [ 1,  6, 11],\n",
       "       [ 2,  7, 12],\n",
       "       [ 3,  8, 13],\n",
       "       [ 4,  9, 14]])"
      ]
     },
     "execution_count": 7,
     "metadata": {},
     "output_type": "execute_result"
    }
   ],
   "source": [
    "arr = np.arange(15).reshape((3,5))\n",
    "arr.T"
   ]
  },
  {
   "cell_type": "code",
   "execution_count": 14,
   "id": "ef906d4a",
   "metadata": {},
   "outputs": [
    {
     "data": {
      "text/plain": [
       "array([[39, 20, 12],\n",
       "       [20, 14,  2],\n",
       "       [12,  2, 10]])"
      ]
     },
     "execution_count": 14,
     "metadata": {},
     "output_type": "execute_result"
    }
   ],
   "source": [
    "# Скалярное произведение двух матриц методом np.dot\n",
    "arr = np.array([[0, 1, 0], [1, 2, -2], [6, 3, 2], [-1, 0, -1], [1, 0, 1]])\n",
    "np.dot(arr.T,arr)\n",
    "# другой способ с исп инфиксным оператором @\n",
    "arr.T @ arr"
   ]
  },
  {
   "cell_type": "code",
   "execution_count": 21,
   "id": "46b610f8",
   "metadata": {},
   "outputs": [
    {
     "data": {
      "text/plain": [
       "array([[ 0,  1,  6, -1,  1],\n",
       "       [ 1,  2,  3,  0,  0],\n",
       "       [ 0, -2,  2, -1,  1]])"
      ]
     },
     "execution_count": 21,
     "metadata": {},
     "output_type": "execute_result"
    }
   ],
   "source": [
    "# Транспонирование с помощью swapaxes (также как и метод .T возвращает без копирование данных)\n",
    "arr.swapaxes(0,1)\n",
    "# arr.T"
   ]
  },
  {
   "cell_type": "markdown",
   "id": "1583ff9a",
   "metadata": {},
   "source": [
    "## 4.2. Генерирование псевдослучайных чисел"
   ]
  },
  {
   "cell_type": "markdown",
   "id": "0215c88e",
   "metadata": {},
   "source": [
    " Модуль numpy.random дополняет встроенный модуль random функциями, которые \n",
    "генерируют целые массивы случайных чисел с различными распределениями \n",
    "вероятности. Например, с помощью функции numpy.random.standard_normal можно \n",
    "получить случайный массив 4×4, выбранный из стандартного нормального \n",
    "распределения:"
   ]
  },
  {
   "cell_type": "code",
   "execution_count": 28,
   "id": "e125dad2",
   "metadata": {},
   "outputs": [],
   "source": [
    "samples = np.random.standard_normal(size=(4,4))"
   ]
  },
  {
   "cell_type": "markdown",
   "id": "e44d6a15",
   "metadata": {},
   "source": [
    " Встроенный в Python модуль random умеет выдавать только по одному слу\n",
    "чайному числу за одно обращение. Ниже видно, что numpy.random более чем на \n",
    "порядок быстрее стандартного модуля при генерации очень больших вы\n",
    "борок:"
   ]
  },
  {
   "cell_type": "code",
   "execution_count": null,
   "id": "30a658ea",
   "metadata": {},
   "outputs": [
    {
     "name": "stdout",
     "output_type": "stream",
     "text": [
      "1.23 s ± 41.9 ms per loop (mean ± std. dev. of 7 runs, 1 loop each)\n"
     ]
    }
   ],
   "source": [
    "from random import normalvariate\n",
    "N = 1_000_000\n",
    "\n",
    "%timeit samples = [normalvariate(0,1) for _ in range(N)]"
   ]
  },
  {
   "cell_type": "code",
   "execution_count": 30,
   "id": "cc8f7fdc",
   "metadata": {},
   "outputs": [
    {
     "name": "stdout",
     "output_type": "stream",
     "text": [
      "32.8 ms ± 279 µs per loop (mean ± std. dev. of 7 runs, 10 loops each)\n"
     ]
    }
   ],
   "source": [
    "%timeit np.random.standard_normal(N)"
   ]
  },
  {
   "cell_type": "markdown",
   "id": "4a33080d",
   "metadata": {},
   "source": [
    "## 4.3. Универсальные функции: быстрые поэлементные операции над массивами"
   ]
  },
  {
   "cell_type": "code",
   "execution_count": 55,
   "id": "a542cd5c",
   "metadata": {},
   "outputs": [
    {
     "data": {
      "text/plain": [
       "array([-0.31659545, -0.32238912,  1.28792526,  0.19397442,  1.1921661 ,\n",
       "        0.57710379,  1.00026942,  0.54195222])"
      ]
     },
     "execution_count": 55,
     "metadata": {},
     "output_type": "execute_result"
    }
   ],
   "source": [
    "arr = np.arange(10)\n",
    "# унарные функции\n",
    "np.sqrt(arr)\n",
    "np.exp(arr)\n",
    "# бинарные функции\n",
    "# конфиг генератор явно\n",
    "rng = np.random.default_rng(seed=123)\n",
    "x = rng.standard_normal(8)\n",
    "y = rng.standard_normal(8)\n",
    "np.maximum(x,y)"
   ]
  },
  {
   "cell_type": "code",
   "execution_count": 59,
   "id": "48bd6e62",
   "metadata": {},
   "outputs": [
    {
     "data": {
      "text/plain": [
       "array([[ 1.62347258, -3.03369361, -1.18615959,  2.52873505],\n",
       "       [-1.54891174,  1.08320104,  0.13193636,  0.86115602],\n",
       "       [ 0.3773149 ,  0.95729752,  1.80598035,  0.05042333],\n",
       "       [-0.65171561,  0.66197614,  0.21084058, -0.38764018]])"
      ]
     },
     "execution_count": 59,
     "metadata": {},
     "output_type": "execute_result"
    }
   ],
   "source": [
    "arr1 = rng.standard_normal(size=(4,4))\n",
    "arr2 = rng.standard_normal(size=(4,4))\n",
    "addition = np.add(arr1,arr2)\n",
    "addition"
   ]
  },
  {
   "cell_type": "markdown",
   "id": "df2158a6",
   "metadata": {},
   "source": [
    "### Сортировка"
   ]
  },
  {
   "cell_type": "code",
   "execution_count": 60,
   "id": "c3e3cab2",
   "metadata": {},
   "outputs": [
    {
     "data": {
      "text/plain": [
       "array([ 0.41072807,  0.99411962,  0.1665067 ,  1.56399972,  0.41030213,\n",
       "       -0.155813  ])"
      ]
     },
     "execution_count": 60,
     "metadata": {},
     "output_type": "execute_result"
    }
   ],
   "source": [
    "arr = rng.standard_normal(6)\n",
    "arr"
   ]
  },
  {
   "cell_type": "code",
   "execution_count": 62,
   "id": "32dcf245",
   "metadata": {},
   "outputs": [
    {
     "data": {
      "text/plain": [
       "array([-0.155813  ,  0.1665067 ,  0.41030213,  0.41072807,  0.99411962,\n",
       "        1.56399972])"
      ]
     },
     "execution_count": 62,
     "metadata": {},
     "output_type": "execute_result"
    }
   ],
   "source": [
    "arr.sort()\n",
    "arr"
   ]
  },
  {
   "cell_type": "code",
   "execution_count": 65,
   "id": "6bd2b465",
   "metadata": {},
   "outputs": [
    {
     "data": {
      "text/plain": [
       "array([[ 0.80482429,  0.22033027,  0.5057598 ],\n",
       "       [-1.4884082 ,  0.19486747,  0.62451078],\n",
       "       [-0.70612729,  0.4049876 , -0.38082625],\n",
       "       [ 1.00050675,  1.10841879, -0.53478309],\n",
       "       [ 1.46292259, -0.1900803 ,  2.06194456]])"
      ]
     },
     "execution_count": 65,
     "metadata": {},
     "output_type": "execute_result"
    }
   ],
   "source": [
    "arr = rng.standard_normal(size=(5,3))\n",
    "arr"
   ]
  },
  {
   "cell_type": "code",
   "execution_count": null,
   "id": "58440f7a",
   "metadata": {},
   "outputs": [
    {
     "data": {
      "text/plain": [
       "array([[-1.4884082 , -0.1900803 , -0.53478309],\n",
       "       [-0.70612729,  0.19486747, -0.38082625],\n",
       "       [ 0.80482429,  0.22033027,  0.5057598 ],\n",
       "       [ 1.00050675,  0.4049876 ,  0.62451078],\n",
       "       [ 1.46292259,  1.10841879,  2.06194456]])"
      ]
     },
     "execution_count": 67,
     "metadata": {},
     "output_type": "execute_result"
    }
   ],
   "source": [
    "# axis=0 сортирует по стобце, а axis=1 по строкам\n",
    "arr.sort(axis = 0)\n",
    "arr"
   ]
  },
  {
   "cell_type": "markdown",
   "id": "a9aecc6a",
   "metadata": {},
   "source": [
    " Метод верхнего уровня numpy.sort возвращает отсортированную копию \n",
    "массива (как встроенная функция sorted), а не сортирует массив на месте. "
   ]
  },
  {
   "cell_type": "code",
   "execution_count": null,
   "id": "419a5297",
   "metadata": {},
   "outputs": [
    {
     "data": {
      "text/plain": [
       "array([-10,  -3,   0,   1,   5,   7])"
      ]
     },
     "execution_count": 69,
     "metadata": {},
     "output_type": "execute_result"
    }
   ],
   "source": [
    "arr2 = np.array([5,-10,7,1,0,-3])\n",
    "sorted_arr2 = np.sort(arr2)\n",
    "sorted_arr2"
   ]
  },
  {
   "cell_type": "markdown",
   "id": "4880c9dc",
   "metadata": {},
   "source": [
    "### Устранение дубликатов и другие операции"
   ]
  },
  {
   "cell_type": "code",
   "execution_count": 70,
   "id": "5b70a263",
   "metadata": {},
   "outputs": [
    {
     "data": {
      "text/plain": [
       "array(['Bob', 'Joe', 'Will'], dtype='<U4')"
      ]
     },
     "execution_count": 70,
     "metadata": {},
     "output_type": "execute_result"
    }
   ],
   "source": [
    "names = np.array([\"Bob\", \"Will\", \"Joe\", \"Bob\", \"Will\", \"Joe\", \"Joe\"])\n",
    "np.unique(names)"
   ]
  }
 ],
 "metadata": {
  "kernelspec": {
   "display_name": "myenv",
   "language": "python",
   "name": "menv"
  },
  "language_info": {
   "codemirror_mode": {
    "name": "ipython",
    "version": 3
   },
   "file_extension": ".py",
   "mimetype": "text/x-python",
   "name": "python",
   "nbconvert_exporter": "python",
   "pygments_lexer": "ipython3",
   "version": "3.10.8"
  }
 },
 "nbformat": 4,
 "nbformat_minor": 5
}
