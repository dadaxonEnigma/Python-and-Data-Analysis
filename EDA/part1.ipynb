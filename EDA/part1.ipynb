{
 "cells": [
  {
   "cell_type": "markdown",
   "id": "b878870c",
   "metadata": {},
   "source": [
    "### Основы Numpy: массивы и векторные вычисления"
   ]
  },
  {
   "cell_type": "code",
   "execution_count": 3,
   "id": "94ea985c",
   "metadata": {},
   "outputs": [],
   "source": [
    "import numpy as np\n",
    "\n",
    "my_arr = np.arange(1_000_000)\n",
    "my_list = list(range(1_000_000))"
   ]
  },
  {
   "cell_type": "code",
   "execution_count": 4,
   "id": "708e9ee3",
   "metadata": {},
   "outputs": [
    {
     "name": "stdout",
     "output_type": "stream",
     "text": [
      "2.17 ms ± 41.1 µs per loop (mean ± std. dev. of 7 runs, 100 loops each)\n"
     ]
    }
   ],
   "source": [
    "%timeit my_arr * 2"
   ]
  },
  {
   "cell_type": "code",
   "execution_count": 5,
   "id": "b1b8a951",
   "metadata": {},
   "outputs": [
    {
     "name": "stdout",
     "output_type": "stream",
     "text": [
      "99.1 ms ± 2.54 ms per loop (mean ± std. dev. of 7 runs, 10 loops each)\n"
     ]
    }
   ],
   "source": [
    "%timeit [x * 2 for x in my_list]"
   ]
  },
  {
   "cell_type": "markdown",
   "id": "eb18d381",
   "metadata": {},
   "source": [
    "## Numpy ndarray"
   ]
  },
  {
   "cell_type": "code",
   "execution_count": 8,
   "id": "0d6a2298",
   "metadata": {},
   "outputs": [
    {
     "data": {
      "text/plain": [
       "(array([[ 15.,   0.,  -1.],\n",
       "        [  0., -30.,  65.]]),\n",
       " array([[ 3. ,  0. , -0.2],\n",
       "        [ 0. , -6. , 13. ]]))"
      ]
     },
     "execution_count": 8,
     "metadata": {},
     "output_type": "execute_result"
    }
   ],
   "source": [
    "data = np.array([[1.5,0,-0.1],[0,-3,6.5]])\n",
    "data * 10, data + data"
   ]
  },
  {
   "cell_type": "code",
   "execution_count": 10,
   "id": "36f881f5",
   "metadata": {},
   "outputs": [
    {
     "data": {
      "text/plain": [
       "((2, 3), dtype('float64'))"
      ]
     },
     "execution_count": 10,
     "metadata": {},
     "output_type": "execute_result"
    }
   ],
   "source": [
    "# dtype, shape\n",
    "data.shape, data.dtype"
   ]
  },
  {
   "cell_type": "markdown",
   "id": "ba20266e",
   "metadata": {},
   "source": [
    "### Создание ndarray"
   ]
  },
  {
   "cell_type": "code",
   "execution_count": 12,
   "id": "00a958bc",
   "metadata": {},
   "outputs": [
    {
     "data": {
      "text/plain": [
       "([11, 43, 52, 0, 4.5], array([11. , 43. , 52. ,  0. ,  4.5]))"
      ]
     },
     "execution_count": 12,
     "metadata": {},
     "output_type": "execute_result"
    }
   ],
   "source": [
    "data1 = [11,43,52,0,4.5]\n",
    "arr1 = np.array(data1)\n",
    "type(data1), type(arr1)\n",
    "data1, arr1 "
   ]
  },
  {
   "cell_type": "code",
   "execution_count": 22,
   "id": "125ff6f3",
   "metadata": {},
   "outputs": [
    {
     "data": {
      "text/plain": [
       "array([[1, 2, 3, 4],\n",
       "       [5, 6, 7, 8]])"
      ]
     },
     "execution_count": 22,
     "metadata": {},
     "output_type": "execute_result"
    }
   ],
   "source": [
    "data2 = [[1,2,3,4],[5,6,7,8]]\n",
    "arr2 = np.array(data2)\n",
    "arr2 "
   ]
  },
  {
   "cell_type": "code",
   "execution_count": 23,
   "id": "5c4d6e26",
   "metadata": {},
   "outputs": [
    {
     "data": {
      "text/plain": [
       "(1, 2)"
      ]
     },
     "execution_count": 23,
     "metadata": {},
     "output_type": "execute_result"
    }
   ],
   "source": [
    "# ndim\n",
    "arr1.ndim, arr2.ndim"
   ]
  },
  {
   "cell_type": "markdown",
   "id": "6a3b5548",
   "metadata": {},
   "source": [
    "функция np.array() сасмостоятельно определяет тип, если не указать самому"
   ]
  },
  {
   "cell_type": "code",
   "execution_count": 24,
   "id": "623bdbad",
   "metadata": {},
   "outputs": [
    {
     "data": {
      "text/plain": [
       "(dtype('float64'), dtype('int32'))"
      ]
     },
     "execution_count": 24,
     "metadata": {},
     "output_type": "execute_result"
    }
   ],
   "source": [
    "arr1.dtype, arr2.dtype"
   ]
  },
  {
   "cell_type": "markdown",
   "id": "f6106338",
   "metadata": {},
   "source": [
    "np.zeros, np.ones, np.empty"
   ]
  },
  {
   "cell_type": "code",
   "execution_count": 28,
   "id": "884c5c05",
   "metadata": {},
   "outputs": [
    {
     "data": {
      "text/plain": [
       "array([[6.23042070e-307, 7.56587584e-307, 1.37961302e-306,\n",
       "        6.23053614e-307, 1.69121639e-306],\n",
       "       [9.34613185e-307, 1.24610383e-306, 1.11259940e-306,\n",
       "        1.60220393e-306, 8.01097889e-307],\n",
       "       [1.37961234e-306, 1.78021527e-306, 8.34450230e-308,\n",
       "        3.91792476e-317, 0.00000000e+000]])"
      ]
     },
     "execution_count": 28,
     "metadata": {},
     "output_type": "execute_result"
    }
   ],
   "source": [
    "np.zeros(10)\n",
    "np.zeros((2,3))\n",
    "np.empty((3,5))"
   ]
  },
  {
   "cell_type": "markdown",
   "id": "4763273a",
   "metadata": {},
   "source": [
    " Функция numpy.arange – вариант встроенной в Python функции range, только \n",
    "возвращаемым значением является массив:"
   ]
  },
  {
   "cell_type": "code",
   "execution_count": 30,
   "id": "7b583ec1",
   "metadata": {},
   "outputs": [
    {
     "data": {
      "text/plain": [
       "(range, numpy.ndarray)"
      ]
     },
     "execution_count": 30,
     "metadata": {},
     "output_type": "execute_result"
    }
   ],
   "source": [
    "np.arange(10)\n",
    "type(range(10)), type(np.arange(10))"
   ]
  },
  {
   "cell_type": "markdown",
   "id": "ff629ff7",
   "metadata": {},
   "source": [
    "asarray, ones_like, zeros_like, empty_like, full, eye, identity"
   ]
  },
  {
   "cell_type": "code",
   "execution_count": 32,
   "id": "a9b10eea",
   "metadata": {},
   "outputs": [
    {
     "data": {
      "text/plain": [
       "array([[1., 0., 0.],\n",
       "       [0., 1., 0.],\n",
       "       [0., 0., 1.]])"
      ]
     },
     "execution_count": 32,
     "metadata": {},
     "output_type": "execute_result"
    }
   ],
   "source": [
    "# np.eye(n, m=None, k=0)\n",
    "np.eye(3)\n",
    "#  То же, что np.eye(n), но только квадратную и без сдвигов.\n",
    "np.identity(3) "
   ]
  },
  {
   "cell_type": "markdown",
   "id": "2c1eba56",
   "metadata": {},
   "source": [
    "### Типы данных для ndarray"
   ]
  },
  {
   "cell_type": "code",
   "execution_count": 35,
   "id": "434fc65e",
   "metadata": {},
   "outputs": [
    {
     "data": {
      "text/plain": [
       "(dtype('float64'), dtype('int32'))"
      ]
     },
     "execution_count": 35,
     "metadata": {},
     "output_type": "execute_result"
    }
   ],
   "source": [
    "arr1 = np.array([1,2,3], dtype = np.float64)\n",
    "arr2 = np.array([1,2,3], dtype = np.int32)\n",
    "arr1.dtype, arr2.dtype"
   ]
  },
  {
   "cell_type": "markdown",
   "id": "fa5b81b2",
   "metadata": {},
   "source": [
    "int32 --> float64"
   ]
  },
  {
   "cell_type": "code",
   "execution_count": 38,
   "id": "3fbacc4f",
   "metadata": {},
   "outputs": [
    {
     "data": {
      "text/plain": [
       "(dtype('int32'), dtype('float64'))"
      ]
     },
     "execution_count": 38,
     "metadata": {},
     "output_type": "execute_result"
    }
   ],
   "source": [
    "arr = np.array([1,2,3,4,5])\n",
    "float_arr = arr.astype(np.float64)\n",
    "arr.dtype, float_arr.dtype"
   ]
  },
  {
   "cell_type": "markdown",
   "id": "35d919aa",
   "metadata": {},
   "source": [
    "float64 --> int32"
   ]
  },
  {
   "cell_type": "code",
   "execution_count": 43,
   "id": "8c8379f4",
   "metadata": {},
   "outputs": [
    {
     "data": {
      "text/plain": [
       "array([ 3, -1, -2,  4])"
      ]
     },
     "execution_count": 43,
     "metadata": {},
     "output_type": "execute_result"
    }
   ],
   "source": [
    "arr = np.array([3.7,-1.2,-2.6,4.5])\n",
    "arr.astype(np.int32)"
   ]
  },
  {
   "cell_type": "markdown",
   "id": "35c863d2",
   "metadata": {},
   "source": [
    " Если имеется массив строк, представляющих целые числа, то astype позволит \n",
    "преобразовать их в числовую форму:"
   ]
  },
  {
   "cell_type": "code",
   "execution_count": 55,
   "id": "0d69521a",
   "metadata": {},
   "outputs": [
    {
     "data": {
      "text/plain": [
       "array([ 1.25, -9.6 , 42.  ])"
      ]
     },
     "execution_count": 55,
     "metadata": {},
     "output_type": "execute_result"
    }
   ],
   "source": [
    "numeric_strings = np.array(['1.25','-9.6','42'],dtype = np.string_)\n",
    "numeric_strings.astype(np.float64)"
   ]
  },
  {
   "cell_type": "markdown",
   "id": "e72374c1",
   "metadata": {},
   "source": [
    "Можно также использовать атрибут dtype другого массива"
   ]
  },
  {
   "cell_type": "code",
   "execution_count": 59,
   "id": "600c4b98",
   "metadata": {},
   "outputs": [
    {
     "data": {
      "text/plain": [
       "array([0., 1., 2., 3., 4., 5., 6., 7., 8., 9.])"
      ]
     },
     "execution_count": 59,
     "metadata": {},
     "output_type": "execute_result"
    }
   ],
   "source": [
    "int_array = np.arange(10)\n",
    "calibers = np.array([.22,.270,.357,.380,.44,.50], dtype=np.float64)\n",
    "\n",
    "int_array.astype(calibers.dtype)"
   ]
  },
  {
   "cell_type": "markdown",
   "id": "f6e60f3e",
   "metadata": {},
   "source": [
    "!!  При вызове astype всегда создается новый массив (данные копи\n",
    "руются), даже если новый dtype не отличается от старого"
   ]
  },
  {
   "cell_type": "markdown",
   "id": "cc6a68d9",
   "metadata": {},
   "source": [
    "### Арифметические операции с массивами Numpy\n",
    "Массивы важны, потому что позволяют выразить операции над совокупностя\n",
    "ми данных без выписывания циклов for. Обычно это называется векториза\n",
    "цией. Любая арифметическая операция над массивами одинакового размера \n",
    "применяется к соответственным элементам"
   ]
  },
  {
   "cell_type": "code",
   "execution_count": 62,
   "id": "6d24d324",
   "metadata": {},
   "outputs": [
    {
     "data": {
      "text/plain": [
       "array([[0, 0, 0],\n",
       "       [0, 0, 0]])"
      ]
     },
     "execution_count": 62,
     "metadata": {},
     "output_type": "execute_result"
    }
   ],
   "source": [
    "arr = np.array([[1,2,3],[4,5,6]])\n",
    "arr * arr \n",
    "arr - arr"
   ]
  },
  {
   "cell_type": "markdown",
   "id": "51462d1d",
   "metadata": {},
   "source": [
    " Арифметические операции, в которых участвует скаляр, применяются \n",
    "к каждому элементу массива:"
   ]
  },
  {
   "cell_type": "code",
   "execution_count": 65,
   "id": "8e36f233",
   "metadata": {},
   "outputs": [
    {
     "data": {
      "text/plain": [
       "array([[ 1,  4,  9],\n",
       "       [16, 25, 36]])"
      ]
     },
     "execution_count": 65,
     "metadata": {},
     "output_type": "execute_result"
    }
   ],
   "source": [
    "1 / arr\n",
    "arr ** 2"
   ]
  },
  {
   "cell_type": "markdown",
   "id": "b6649ec6",
   "metadata": {},
   "source": [
    "Сравнение массивов одинакового размера дает булев массив"
   ]
  },
  {
   "cell_type": "code",
   "execution_count": 66,
   "id": "6c77d995",
   "metadata": {},
   "outputs": [
    {
     "data": {
      "text/plain": [
       "array([[False,  True, False],\n",
       "       [ True, False,  True]])"
      ]
     },
     "execution_count": 66,
     "metadata": {},
     "output_type": "execute_result"
    }
   ],
   "source": [
    "arr2 = np.array([[0,4,1],[7,2,12]])\n",
    "arr2 > arr"
   ]
  }
 ],
 "metadata": {
  "kernelspec": {
   "display_name": "Python (myenv)",
   "language": "python",
   "name": "myenv"
  },
  "language_info": {
   "codemirror_mode": {
    "name": "ipython",
    "version": 3
   },
   "file_extension": ".py",
   "mimetype": "text/x-python",
   "name": "python",
   "nbconvert_exporter": "python",
   "pygments_lexer": "ipython3",
   "version": "3.10.8"
  }
 },
 "nbformat": 4,
 "nbformat_minor": 5
}
