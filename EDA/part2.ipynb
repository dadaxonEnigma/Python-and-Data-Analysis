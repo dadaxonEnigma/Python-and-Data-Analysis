{
 "cells": [
  {
   "cell_type": "markdown",
   "id": "afea3bd4",
   "metadata": {},
   "source": [
    "# Pandas"
   ]
  },
  {
   "cell_type": "markdown",
   "id": "87ca07d3",
   "metadata": {},
   "source": [
    "## 5.1. Введение в структуру данных Pandas"
   ]
  },
  {
   "cell_type": "markdown",
   "id": "07e9e426",
   "metadata": {},
   "source": [
    "Чтобы начать работу с pandas, вы должны освоить две основные структуры \n",
    "данных: Series и DataFrame"
   ]
  },
  {
   "cell_type": "markdown",
   "id": "4c950924",
   "metadata": {
    "vscode": {
     "languageId": "plaintext"
    }
   },
   "source": [
    "### Объект Series"
   ]
  },
  {
   "cell_type": "code",
   "execution_count": 2,
   "id": "bc97bf93",
   "metadata": {},
   "outputs": [],
   "source": [
    "import numpy as np\n",
    "import pandas as pd"
   ]
  },
  {
   "cell_type": "code",
   "execution_count": 18,
   "id": "b1ac678f",
   "metadata": {},
   "outputs": [
    {
     "data": {
      "text/plain": [
       "0    4\n",
       "1    7\n",
       "2   -5\n",
       "3    3\n",
       "dtype: int64"
      ]
     },
     "execution_count": 18,
     "metadata": {},
     "output_type": "execute_result"
    }
   ],
   "source": [
    "obj = pd.Series([4,7,-5,3])\n",
    "type(obj)\n",
    "obj"
   ]
  },
  {
   "cell_type": "markdown",
   "id": "bd39f14c",
   "metadata": {},
   "source": [
    " Имея объект Series, получить представление само\n",
    "го массива и его индекса можно с помощью атрибутов values и index соответственно:"
   ]
  },
  {
   "cell_type": "code",
   "execution_count": null,
   "id": "b54e0551",
   "metadata": {},
   "outputs": [
    {
     "data": {
      "text/plain": [
       "RangeIndex(start=0, stop=4, step=1)"
      ]
     },
     "execution_count": 12,
     "metadata": {},
     "output_type": "execute_result"
    }
   ],
   "source": [
    "obj.values\n",
    "#  Результатом применения атрибута .array является объект PandasArray, котoрый обычно обертывает массив NumPy\n",
    "obj.array\n",
    "obj.index"
   ]
  },
  {
   "cell_type": "markdown",
   "id": "613a9793",
   "metadata": {},
   "source": [
    " Часто желательно создать объект Series с индексом, идентифицирующим \n",
    "каждый элемент данных:"
   ]
  },
  {
   "cell_type": "code",
   "execution_count": 14,
   "id": "1aef894d",
   "metadata": {},
   "outputs": [
    {
     "data": {
      "text/plain": [
       "d    4\n",
       "b    7\n",
       "a   -5\n",
       "c    3\n",
       "dtype: int64"
      ]
     },
     "execution_count": 14,
     "metadata": {},
     "output_type": "execute_result"
    }
   ],
   "source": [
    "obj2 = pd.Series([4,7,-5,3],index=['d','b','a','c'])\n",
    "obj2"
   ]
  },
  {
   "cell_type": "markdown",
   "id": "4eb701c7",
   "metadata": {},
   "source": [
    "В отличие от массивов NumPy, для выделения одного или нескольких значе\n",
    "ний можно использовать метки в индексе"
   ]
  },
  {
   "cell_type": "code",
   "execution_count": null,
   "id": "2ef8ca68",
   "metadata": {},
   "outputs": [
    {
     "data": {
      "text/plain": [
       "-5"
      ]
     },
     "execution_count": 15,
     "metadata": {},
     "output_type": "execute_result"
    }
   ],
   "source": [
    "obj2['a']\n"
   ]
  },
  {
   "cell_type": "markdown",
   "id": "8c426ebf",
   "metadata": {},
   "source": [
    "Функции NumPy или похожие на них операции, например фильтрация с по\n",
    "мощью булева массива, скалярное умножение или применение математиче\n",
    "ских функций, сохраняют связь между индексом и значением"
   ]
  },
  {
   "cell_type": "code",
   "execution_count": 19,
   "id": "3f47e65c",
   "metadata": {},
   "outputs": [
    {
     "data": {
      "text/plain": [
       "d      54.598150\n",
       "b    1096.633158\n",
       "a       0.006738\n",
       "c      20.085537\n",
       "dtype: float64"
      ]
     },
     "execution_count": 19,
     "metadata": {},
     "output_type": "execute_result"
    }
   ],
   "source": [
    "obj2[obj2 > 0]\n",
    "obj2 * 2 \n",
    "np.exp(obj2)"
   ]
  },
  {
   "cell_type": "markdown",
   "id": "c8f99c87",
   "metadata": {},
   "source": [
    "Объект Series можно также представлять себе как упорядоченный словарь \n",
    "фиксированной длины, поскольку он отображает индекс на данные. Его можно \n",
    "передавать многим функциям, ожидающим получить словарь:"
   ]
  },
  {
   "cell_type": "code",
   "execution_count": 21,
   "id": "39804dab",
   "metadata": {},
   "outputs": [
    {
     "data": {
      "text/plain": [
       "False"
      ]
     },
     "execution_count": 21,
     "metadata": {},
     "output_type": "execute_result"
    }
   ],
   "source": [
    "\"b\" in obj2\n",
    "'e' in obj2"
   ]
  },
  {
   "cell_type": "markdown",
   "id": "787bbe8a",
   "metadata": {},
   "source": [
    " Если имеется словарь Python, содержащий данные, то из него можно создать \n",
    "объект Series"
   ]
  },
  {
   "cell_type": "code",
   "execution_count": 4,
   "id": "4208e291",
   "metadata": {},
   "outputs": [
    {
     "data": {
      "text/plain": [
       "{'Ohio': 35000, 'Texas': 71000, 'Oregon': 16000, 'Utah': 5000}"
      ]
     },
     "execution_count": 4,
     "metadata": {},
     "output_type": "execute_result"
    }
   ],
   "source": [
    "sdata = {\"Ohio\": 35000, \"Texas\": 71000, \"Oregon\": 16000, \"Utah\": 5000}\n",
    "obj3 = pd.Series(sdata) # dict --> series\n",
    "obj3.to_dict() # series --> dict"
   ]
  },
  {
   "cell_type": "markdown",
   "id": "ab427b0e",
   "metadata": {},
   "source": [
    "Если передается только словарь, то в индексе получившегося объекта Series \n",
    "ключи будут храниться в порядке, который определяется методом словаря keys \n",
    "и зависит от того, в каком порядке ключи вставлялись. Этот порядок можно \n",
    "переопределить, передав индекс, содержащий ключи словаря в том порядке, \n",
    "в каком они должны находиться в результирующем объекте Series"
   ]
  },
  {
   "cell_type": "code",
   "execution_count": 6,
   "id": "00ef0843",
   "metadata": {},
   "outputs": [
    {
     "data": {
      "text/plain": [
       "California        NaN\n",
       "Ohio          35000.0\n",
       "Oregon        16000.0\n",
       "Texas         71000.0\n",
       "dtype: float64"
      ]
     },
     "execution_count": 6,
     "metadata": {},
     "output_type": "execute_result"
    }
   ],
   "source": [
    "states = [\"California\", \"Ohio\", \"Oregon\", \"Texas\"]\n",
    "obj4 = pd.Series(sdata, index = states)\n",
    "obj4"
   ]
  },
  {
   "cell_type": "markdown",
   "id": "1ceff0ba",
   "metadata": {},
   "source": [
    "Для распознавания отсутствующих данных в pandas следует \n",
    "использовать функции isna и notna"
   ]
  },
  {
   "cell_type": "code",
   "execution_count": 8,
   "id": "89064d0b",
   "metadata": {},
   "outputs": [
    {
     "data": {
      "text/plain": [
       "California    False\n",
       "Ohio           True\n",
       "Oregon         True\n",
       "Texas          True\n",
       "dtype: bool"
      ]
     },
     "execution_count": 8,
     "metadata": {},
     "output_type": "execute_result"
    }
   ],
   "source": [
    "pd.isna(obj4)\n",
    "pd.notna(obj4)"
   ]
  },
  {
   "cell_type": "markdown",
   "id": "34ce7f7f",
   "metadata": {},
   "source": [
    " И у самого объекта Series, и у его индекса имеется атрибут name, тесно связан\n",
    "ный с другими частями функциональности pandas"
   ]
  },
  {
   "cell_type": "code",
   "execution_count": 16,
   "id": "ddb604a8",
   "metadata": {},
   "outputs": [
    {
     "data": {
      "text/plain": [
       "state\n",
       "California        NaN\n",
       "Ohio          35000.0\n",
       "Oregon        16000.0\n",
       "Texas         71000.0\n",
       "Name: population, dtype: float64"
      ]
     },
     "execution_count": 16,
     "metadata": {},
     "output_type": "execute_result"
    }
   ],
   "source": [
    "obj4.name = 'population'\n",
    "obj4.index.name = 'state'\n",
    "obj4"
   ]
  },
  {
   "cell_type": "markdown",
   "id": "744dd9f6",
   "metadata": {},
   "source": [
    "Индекс объекта Series можно изменить на месте с помощью присваива\n",
    "ния:"
   ]
  },
  {
   "cell_type": "code",
   "execution_count": 24,
   "id": "aa06ebc1",
   "metadata": {},
   "outputs": [
    {
     "data": {
      "text/plain": [
       "Bob      4\n",
       "Steve    7\n",
       "Jeff    -5\n",
       "Ryan     3\n",
       "dtype: int64"
      ]
     },
     "execution_count": 24,
     "metadata": {},
     "output_type": "execute_result"
    }
   ],
   "source": [
    "obj\n",
    "obj.index = ['Bob','Steve','Jeff','Ryan']\n",
    "obj"
   ]
  },
  {
   "cell_type": "markdown",
   "id": "b108c04c",
   "metadata": {},
   "source": [
    "## Объект DataFrame"
   ]
  },
  {
   "cell_type": "code",
   "execution_count": null,
   "id": "6a426ec8",
   "metadata": {},
   "outputs": [],
   "source": []
  }
 ],
 "metadata": {
  "kernelspec": {
   "display_name": "Python (myenv)",
   "language": "python",
   "name": "myenv"
  },
  "language_info": {
   "codemirror_mode": {
    "name": "ipython",
    "version": 3
   },
   "file_extension": ".py",
   "mimetype": "text/x-python",
   "name": "python",
   "nbconvert_exporter": "python",
   "pygments_lexer": "ipython3",
   "version": "3.10.8"
  }
 },
 "nbformat": 4,
 "nbformat_minor": 5
}
