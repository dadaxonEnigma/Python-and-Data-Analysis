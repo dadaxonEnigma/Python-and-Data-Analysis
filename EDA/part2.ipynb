{
 "cells": [
  {
   "cell_type": "markdown",
   "id": "afea3bd4",
   "metadata": {},
   "source": [
    "# Pandas"
   ]
  },
  {
   "cell_type": "markdown",
   "id": "87ca07d3",
   "metadata": {},
   "source": [
    "## 5.1. Введение в структуру данных Pandas"
   ]
  },
  {
   "cell_type": "markdown",
   "id": "07e9e426",
   "metadata": {},
   "source": [
    "Чтобы начать работу с pandas, вы должны освоить две основные структуры \n",
    "данных: Series и DataFrame"
   ]
  },
  {
   "cell_type": "markdown",
   "id": "4c950924",
   "metadata": {
    "vscode": {
     "languageId": "plaintext"
    }
   },
   "source": [
    "### Объект Series"
   ]
  },
  {
   "cell_type": "code",
   "execution_count": 1,
   "id": "bc97bf93",
   "metadata": {},
   "outputs": [],
   "source": [
    "import numpy as np\n",
    "import pandas as pd"
   ]
  },
  {
   "cell_type": "code",
   "execution_count": 2,
   "id": "b1ac678f",
   "metadata": {},
   "outputs": [
    {
     "data": {
      "text/plain": [
       "pandas.core.series.Series"
      ]
     },
     "execution_count": 2,
     "metadata": {},
     "output_type": "execute_result"
    }
   ],
   "source": [
    "obj = pd.Series([4,7,-5,3])\n",
    "type(obj)"
   ]
  }
 ],
 "metadata": {
  "kernelspec": {
   "display_name": "Python (myenv)",
   "language": "python",
   "name": "myenv"
  },
  "language_info": {
   "codemirror_mode": {
    "name": "ipython",
    "version": 3
   },
   "file_extension": ".py",
   "mimetype": "text/x-python",
   "name": "python",
   "nbconvert_exporter": "python",
   "pygments_lexer": "ipython3",
   "version": "3.10.8"
  }
 },
 "nbformat": 4,
 "nbformat_minor": 5
}
