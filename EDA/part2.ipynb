{
 "cells": [
  {
   "cell_type": "markdown",
   "id": "afea3bd4",
   "metadata": {},
   "source": [
    "# Pandas"
   ]
  },
  {
   "cell_type": "markdown",
   "id": "87ca07d3",
   "metadata": {},
   "source": [
    "## 5.1. Введение в структуру данных Pandas"
   ]
  },
  {
   "cell_type": "markdown",
   "id": "07e9e426",
   "metadata": {},
   "source": [
    "Чтобы начать работу с pandas, вы должны освоить две основные структуры \n",
    "данных: Series и DataFrame"
   ]
  },
  {
   "cell_type": "markdown",
   "id": "4c950924",
   "metadata": {
    "vscode": {
     "languageId": "plaintext"
    }
   },
   "source": [
    "### Объект Series"
   ]
  },
  {
   "cell_type": "code",
   "execution_count": 2,
   "id": "bc97bf93",
   "metadata": {},
   "outputs": [],
   "source": [
    "import numpy as np\n",
    "import pandas as pd"
   ]
  },
  {
   "cell_type": "code",
   "execution_count": null,
   "id": "b1ac678f",
   "metadata": {},
   "outputs": [
    {
     "data": {
      "text/plain": [
       "array([ 0.04977654, -1.6408416 ,  0.81442937,  0.62410222, -1.23430732])"
      ]
     },
     "execution_count": 60,
     "metadata": {},
     "output_type": "execute_result"
    }
   ],
   "source": [
    "obj = pd.Series([4,7,-5,3])\n",
    "type(obj)\n",
    "obj"
   ]
  },
  {
   "cell_type": "markdown",
   "id": "bd39f14c",
   "metadata": {},
   "source": [
    " Имея объект Series, получить представление само\n",
    "го массива и его индекса можно с помощью атрибутов values и index соответственно:"
   ]
  },
  {
   "cell_type": "code",
   "execution_count": null,
   "id": "b54e0551",
   "metadata": {},
   "outputs": [
    {
     "data": {
      "text/plain": [
       "RangeIndex(start=0, stop=4, step=1)"
      ]
     },
     "execution_count": 12,
     "metadata": {},
     "output_type": "execute_result"
    }
   ],
   "source": [
    "obj.values\n",
    "#  Результатом применения атрибута .array является объект PandasArray, котoрый обычно обертывает массив NumPy\n",
    "obj.array\n",
    "obj.index"
   ]
  },
  {
   "cell_type": "markdown",
   "id": "613a9793",
   "metadata": {},
   "source": [
    " Часто желательно создать объект Series с индексом, идентифицирующим \n",
    "каждый элемент данных:"
   ]
  },
  {
   "cell_type": "code",
   "execution_count": 14,
   "id": "1aef894d",
   "metadata": {},
   "outputs": [
    {
     "data": {
      "text/plain": [
       "d    4\n",
       "b    7\n",
       "a   -5\n",
       "c    3\n",
       "dtype: int64"
      ]
     },
     "execution_count": 14,
     "metadata": {},
     "output_type": "execute_result"
    }
   ],
   "source": [
    "obj2 = pd.Series([4,7,-5,3],index=['d','b','a','c'])\n",
    "obj2"
   ]
  },
  {
   "cell_type": "markdown",
   "id": "4eb701c7",
   "metadata": {},
   "source": [
    "В отличие от массивов NumPy, для выделения одного или нескольких значе\n",
    "ний можно использовать метки в индексе"
   ]
  },
  {
   "cell_type": "code",
   "execution_count": null,
   "id": "2ef8ca68",
   "metadata": {},
   "outputs": [
    {
     "data": {
      "text/plain": [
       "-5"
      ]
     },
     "execution_count": 15,
     "metadata": {},
     "output_type": "execute_result"
    }
   ],
   "source": [
    "obj2['a']\n"
   ]
  },
  {
   "cell_type": "markdown",
   "id": "8c426ebf",
   "metadata": {},
   "source": [
    "Функции NumPy или похожие на них операции, например фильтрация с по\n",
    "мощью булева массива, скалярное умножение или применение математиче\n",
    "ских функций, сохраняют связь между индексом и значением"
   ]
  },
  {
   "cell_type": "code",
   "execution_count": 19,
   "id": "3f47e65c",
   "metadata": {},
   "outputs": [
    {
     "data": {
      "text/plain": [
       "d      54.598150\n",
       "b    1096.633158\n",
       "a       0.006738\n",
       "c      20.085537\n",
       "dtype: float64"
      ]
     },
     "execution_count": 19,
     "metadata": {},
     "output_type": "execute_result"
    }
   ],
   "source": [
    "obj2[obj2 > 0]\n",
    "obj2 * 2 \n",
    "np.exp(obj2)"
   ]
  },
  {
   "cell_type": "markdown",
   "id": "c8f99c87",
   "metadata": {},
   "source": [
    "Объект Series можно также представлять себе как упорядоченный словарь \n",
    "фиксированной длины, поскольку он отображает индекс на данные. Его можно \n",
    "передавать многим функциям, ожидающим получить словарь:"
   ]
  },
  {
   "cell_type": "code",
   "execution_count": 21,
   "id": "39804dab",
   "metadata": {},
   "outputs": [
    {
     "data": {
      "text/plain": [
       "False"
      ]
     },
     "execution_count": 21,
     "metadata": {},
     "output_type": "execute_result"
    }
   ],
   "source": [
    "\"b\" in obj2\n",
    "'e' in obj2"
   ]
  },
  {
   "cell_type": "markdown",
   "id": "787bbe8a",
   "metadata": {},
   "source": [
    " Если имеется словарь Python, содержащий данные, то из него можно создать \n",
    "объект Series"
   ]
  },
  {
   "cell_type": "code",
   "execution_count": 4,
   "id": "4208e291",
   "metadata": {},
   "outputs": [
    {
     "data": {
      "text/plain": [
       "{'Ohio': 35000, 'Texas': 71000, 'Oregon': 16000, 'Utah': 5000}"
      ]
     },
     "execution_count": 4,
     "metadata": {},
     "output_type": "execute_result"
    }
   ],
   "source": [
    "sdata = {\"Ohio\": 35000, \"Texas\": 71000, \"Oregon\": 16000, \"Utah\": 5000}\n",
    "obj3 = pd.Series(sdata) # dict --> series\n",
    "obj3.to_dict() # series --> dict"
   ]
  },
  {
   "cell_type": "markdown",
   "id": "ab427b0e",
   "metadata": {},
   "source": [
    "Если передается только словарь, то в индексе получившегося объекта Series \n",
    "ключи будут храниться в порядке, который определяется методом словаря keys \n",
    "и зависит от того, в каком порядке ключи вставлялись. Этот порядок можно \n",
    "переопределить, передав индекс, содержащий ключи словаря в том порядке, \n",
    "в каком они должны находиться в результирующем объекте Series"
   ]
  },
  {
   "cell_type": "code",
   "execution_count": 6,
   "id": "00ef0843",
   "metadata": {},
   "outputs": [
    {
     "data": {
      "text/plain": [
       "California        NaN\n",
       "Ohio          35000.0\n",
       "Oregon        16000.0\n",
       "Texas         71000.0\n",
       "dtype: float64"
      ]
     },
     "execution_count": 6,
     "metadata": {},
     "output_type": "execute_result"
    }
   ],
   "source": [
    "states = [\"California\", \"Ohio\", \"Oregon\", \"Texas\"]\n",
    "obj4 = pd.Series(sdata, index = states)\n",
    "obj4"
   ]
  },
  {
   "cell_type": "markdown",
   "id": "1ceff0ba",
   "metadata": {},
   "source": [
    "Для распознавания отсутствующих данных в pandas следует \n",
    "использовать функции isna и notna"
   ]
  },
  {
   "cell_type": "code",
   "execution_count": 8,
   "id": "89064d0b",
   "metadata": {},
   "outputs": [
    {
     "data": {
      "text/plain": [
       "California    False\n",
       "Ohio           True\n",
       "Oregon         True\n",
       "Texas          True\n",
       "dtype: bool"
      ]
     },
     "execution_count": 8,
     "metadata": {},
     "output_type": "execute_result"
    }
   ],
   "source": [
    "pd.isna(obj4)\n",
    "pd.notna(obj4)"
   ]
  },
  {
   "cell_type": "markdown",
   "id": "34ce7f7f",
   "metadata": {},
   "source": [
    " И у самого объекта Series, и у его индекса имеется атрибут name, тесно связан\n",
    "ный с другими частями функциональности pandas"
   ]
  },
  {
   "cell_type": "code",
   "execution_count": 16,
   "id": "ddb604a8",
   "metadata": {},
   "outputs": [
    {
     "data": {
      "text/plain": [
       "state\n",
       "California        NaN\n",
       "Ohio          35000.0\n",
       "Oregon        16000.0\n",
       "Texas         71000.0\n",
       "Name: population, dtype: float64"
      ]
     },
     "execution_count": 16,
     "metadata": {},
     "output_type": "execute_result"
    }
   ],
   "source": [
    "obj4.name = 'population'\n",
    "obj4.index.name = 'state'\n",
    "obj4"
   ]
  },
  {
   "cell_type": "markdown",
   "id": "744dd9f6",
   "metadata": {},
   "source": [
    "Индекс объекта Series можно изменить на месте с помощью присваива\n",
    "ния:"
   ]
  },
  {
   "cell_type": "code",
   "execution_count": 24,
   "id": "aa06ebc1",
   "metadata": {},
   "outputs": [
    {
     "data": {
      "text/plain": [
       "Bob      4\n",
       "Steve    7\n",
       "Jeff    -5\n",
       "Ryan     3\n",
       "dtype: int64"
      ]
     },
     "execution_count": 24,
     "metadata": {},
     "output_type": "execute_result"
    }
   ],
   "source": [
    "obj\n",
    "obj.index = ['Bob','Steve','Jeff','Ryan']\n",
    "obj"
   ]
  },
  {
   "cell_type": "markdown",
   "id": "b108c04c",
   "metadata": {},
   "source": [
    "## Объект DataFrame"
   ]
  },
  {
   "cell_type": "markdown",
   "id": "b93aee7d",
   "metadata": {},
   "source": [
    "Объект DataFrame представляет табличную структуру данных, состоящую из \n",
    "упорядоченной коллекции столбцов, причем типы значений (числовой, стро\n",
    "ковый, булев и т. д.) в разных столбцах могут различаться. В объекте DataFrame \n",
    "хранятся два индекса: по строкам и по столбцам. Можно считать, что это сло\n",
    "варь объектов Series, имеющих общий индекс"
   ]
  },
  {
   "cell_type": "markdown",
   "id": "2a539b6c",
   "metadata": {},
   "source": [
    " Есть много способов сконструировать объект DataFrame, один из самых рас\n",
    "пространенных – на основе словаря списков одинаковой длины или массивов \n",
    "NumPy"
   ]
  },
  {
   "cell_type": "code",
   "execution_count": 29,
   "id": "6a426ec8",
   "metadata": {},
   "outputs": [
    {
     "data": {
      "application/vnd.microsoft.datawrangler.viewer.v0+json": {
       "columns": [
        {
         "name": "index",
         "rawType": "int64",
         "type": "integer"
        },
        {
         "name": "state",
         "rawType": "object",
         "type": "string"
        },
        {
         "name": "year",
         "rawType": "int64",
         "type": "integer"
        },
        {
         "name": "pop",
         "rawType": "float64",
         "type": "float"
        }
       ],
       "conversionMethod": "pd.DataFrame",
       "ref": "bf3c07be-026b-49da-b975-1f3a62d9db60",
       "rows": [
        [
         "0",
         "Ohio",
         "2000",
         "1.5"
        ],
        [
         "1",
         "Ohio",
         "2001",
         "1.7"
        ],
        [
         "2",
         "Ohio",
         "2002",
         "3.6"
        ],
        [
         "3",
         "Nevada",
         "2001",
         "2.4"
        ],
        [
         "4",
         "Nevada",
         "2002",
         "2.9"
        ],
        [
         "5",
         "Nevada",
         "2003",
         "3.2"
        ]
       ],
       "shape": {
        "columns": 3,
        "rows": 6
       }
      },
      "text/html": [
       "<div>\n",
       "<style scoped>\n",
       "    .dataframe tbody tr th:only-of-type {\n",
       "        vertical-align: middle;\n",
       "    }\n",
       "\n",
       "    .dataframe tbody tr th {\n",
       "        vertical-align: top;\n",
       "    }\n",
       "\n",
       "    .dataframe thead th {\n",
       "        text-align: right;\n",
       "    }\n",
       "</style>\n",
       "<table border=\"1\" class=\"dataframe\">\n",
       "  <thead>\n",
       "    <tr style=\"text-align: right;\">\n",
       "      <th></th>\n",
       "      <th>state</th>\n",
       "      <th>year</th>\n",
       "      <th>pop</th>\n",
       "    </tr>\n",
       "  </thead>\n",
       "  <tbody>\n",
       "    <tr>\n",
       "      <th>0</th>\n",
       "      <td>Ohio</td>\n",
       "      <td>2000</td>\n",
       "      <td>1.5</td>\n",
       "    </tr>\n",
       "    <tr>\n",
       "      <th>1</th>\n",
       "      <td>Ohio</td>\n",
       "      <td>2001</td>\n",
       "      <td>1.7</td>\n",
       "    </tr>\n",
       "    <tr>\n",
       "      <th>2</th>\n",
       "      <td>Ohio</td>\n",
       "      <td>2002</td>\n",
       "      <td>3.6</td>\n",
       "    </tr>\n",
       "    <tr>\n",
       "      <th>3</th>\n",
       "      <td>Nevada</td>\n",
       "      <td>2001</td>\n",
       "      <td>2.4</td>\n",
       "    </tr>\n",
       "    <tr>\n",
       "      <th>4</th>\n",
       "      <td>Nevada</td>\n",
       "      <td>2002</td>\n",
       "      <td>2.9</td>\n",
       "    </tr>\n",
       "    <tr>\n",
       "      <th>5</th>\n",
       "      <td>Nevada</td>\n",
       "      <td>2003</td>\n",
       "      <td>3.2</td>\n",
       "    </tr>\n",
       "  </tbody>\n",
       "</table>\n",
       "</div>"
      ],
      "text/plain": [
       "    state  year  pop\n",
       "0    Ohio  2000  1.5\n",
       "1    Ohio  2001  1.7\n",
       "2    Ohio  2002  3.6\n",
       "3  Nevada  2001  2.4\n",
       "4  Nevada  2002  2.9\n",
       "5  Nevada  2003  3.2"
      ]
     },
     "execution_count": 29,
     "metadata": {},
     "output_type": "execute_result"
    }
   ],
   "source": [
    "data = {\"state\": [\"Ohio\", \"Ohio\", \"Ohio\", \"Nevada\", \"Nevada\", \"Nevada\"],\n",
    "        \"year\": [2000, 2001, 2002, 2001, 2002, 2003],\n",
    "        \"pop\": [1.5, 1.7, 3.6, 2.4, 2.9, 3.2]}\n",
    "frame = pd.DataFrame(data) \n",
    "frame"
   ]
  },
  {
   "cell_type": "markdown",
   "id": "b17cdc39",
   "metadata": {},
   "source": [
    "Для больших объектов DataFrame метод head отбирает только первые пять \n",
    "строк:"
   ]
  },
  {
   "cell_type": "code",
   "execution_count": 31,
   "id": "47d4ea10",
   "metadata": {},
   "outputs": [
    {
     "data": {
      "application/vnd.microsoft.datawrangler.viewer.v0+json": {
       "columns": [
        {
         "name": "index",
         "rawType": "int64",
         "type": "integer"
        },
        {
         "name": "state",
         "rawType": "object",
         "type": "string"
        },
        {
         "name": "year",
         "rawType": "int64",
         "type": "integer"
        },
        {
         "name": "pop",
         "rawType": "float64",
         "type": "float"
        }
       ],
       "conversionMethod": "pd.DataFrame",
       "ref": "371d1281-a615-49e7-9450-59f08b37ef83",
       "rows": [
        [
         "1",
         "Ohio",
         "2001",
         "1.7"
        ],
        [
         "2",
         "Ohio",
         "2002",
         "3.6"
        ],
        [
         "3",
         "Nevada",
         "2001",
         "2.4"
        ],
        [
         "4",
         "Nevada",
         "2002",
         "2.9"
        ],
        [
         "5",
         "Nevada",
         "2003",
         "3.2"
        ]
       ],
       "shape": {
        "columns": 3,
        "rows": 5
       }
      },
      "text/html": [
       "<div>\n",
       "<style scoped>\n",
       "    .dataframe tbody tr th:only-of-type {\n",
       "        vertical-align: middle;\n",
       "    }\n",
       "\n",
       "    .dataframe tbody tr th {\n",
       "        vertical-align: top;\n",
       "    }\n",
       "\n",
       "    .dataframe thead th {\n",
       "        text-align: right;\n",
       "    }\n",
       "</style>\n",
       "<table border=\"1\" class=\"dataframe\">\n",
       "  <thead>\n",
       "    <tr style=\"text-align: right;\">\n",
       "      <th></th>\n",
       "      <th>state</th>\n",
       "      <th>year</th>\n",
       "      <th>pop</th>\n",
       "    </tr>\n",
       "  </thead>\n",
       "  <tbody>\n",
       "    <tr>\n",
       "      <th>1</th>\n",
       "      <td>Ohio</td>\n",
       "      <td>2001</td>\n",
       "      <td>1.7</td>\n",
       "    </tr>\n",
       "    <tr>\n",
       "      <th>2</th>\n",
       "      <td>Ohio</td>\n",
       "      <td>2002</td>\n",
       "      <td>3.6</td>\n",
       "    </tr>\n",
       "    <tr>\n",
       "      <th>3</th>\n",
       "      <td>Nevada</td>\n",
       "      <td>2001</td>\n",
       "      <td>2.4</td>\n",
       "    </tr>\n",
       "    <tr>\n",
       "      <th>4</th>\n",
       "      <td>Nevada</td>\n",
       "      <td>2002</td>\n",
       "      <td>2.9</td>\n",
       "    </tr>\n",
       "    <tr>\n",
       "      <th>5</th>\n",
       "      <td>Nevada</td>\n",
       "      <td>2003</td>\n",
       "      <td>3.2</td>\n",
       "    </tr>\n",
       "  </tbody>\n",
       "</table>\n",
       "</div>"
      ],
      "text/plain": [
       "    state  year  pop\n",
       "1    Ohio  2001  1.7\n",
       "2    Ohio  2002  3.6\n",
       "3  Nevada  2001  2.4\n",
       "4  Nevada  2002  2.9\n",
       "5  Nevada  2003  3.2"
      ]
     },
     "execution_count": 31,
     "metadata": {},
     "output_type": "execute_result"
    }
   ],
   "source": [
    "frame.head()\n",
    "#Аналогично tail возвращает последние пять строк\n",
    "frame.tail()"
   ]
  },
  {
   "cell_type": "markdown",
   "id": "f36e78f8",
   "metadata": {},
   "source": [
    " Если задать последовательность столбцов, то столбцы DataFrame располо\n",
    "жатся строго в указанном порядке"
   ]
  },
  {
   "cell_type": "code",
   "execution_count": 32,
   "id": "01576bfa",
   "metadata": {},
   "outputs": [
    {
     "data": {
      "application/vnd.microsoft.datawrangler.viewer.v0+json": {
       "columns": [
        {
         "name": "index",
         "rawType": "int64",
         "type": "integer"
        },
        {
         "name": "year",
         "rawType": "int64",
         "type": "integer"
        },
        {
         "name": "state",
         "rawType": "object",
         "type": "string"
        },
        {
         "name": "pop",
         "rawType": "float64",
         "type": "float"
        }
       ],
       "conversionMethod": "pd.DataFrame",
       "ref": "4d973587-8cd0-41d4-bf50-683c9e629f68",
       "rows": [
        [
         "0",
         "2000",
         "Ohio",
         "1.5"
        ],
        [
         "1",
         "2001",
         "Ohio",
         "1.7"
        ],
        [
         "2",
         "2002",
         "Ohio",
         "3.6"
        ],
        [
         "3",
         "2001",
         "Nevada",
         "2.4"
        ],
        [
         "4",
         "2002",
         "Nevada",
         "2.9"
        ],
        [
         "5",
         "2003",
         "Nevada",
         "3.2"
        ]
       ],
       "shape": {
        "columns": 3,
        "rows": 6
       }
      },
      "text/html": [
       "<div>\n",
       "<style scoped>\n",
       "    .dataframe tbody tr th:only-of-type {\n",
       "        vertical-align: middle;\n",
       "    }\n",
       "\n",
       "    .dataframe tbody tr th {\n",
       "        vertical-align: top;\n",
       "    }\n",
       "\n",
       "    .dataframe thead th {\n",
       "        text-align: right;\n",
       "    }\n",
       "</style>\n",
       "<table border=\"1\" class=\"dataframe\">\n",
       "  <thead>\n",
       "    <tr style=\"text-align: right;\">\n",
       "      <th></th>\n",
       "      <th>year</th>\n",
       "      <th>state</th>\n",
       "      <th>pop</th>\n",
       "    </tr>\n",
       "  </thead>\n",
       "  <tbody>\n",
       "    <tr>\n",
       "      <th>0</th>\n",
       "      <td>2000</td>\n",
       "      <td>Ohio</td>\n",
       "      <td>1.5</td>\n",
       "    </tr>\n",
       "    <tr>\n",
       "      <th>1</th>\n",
       "      <td>2001</td>\n",
       "      <td>Ohio</td>\n",
       "      <td>1.7</td>\n",
       "    </tr>\n",
       "    <tr>\n",
       "      <th>2</th>\n",
       "      <td>2002</td>\n",
       "      <td>Ohio</td>\n",
       "      <td>3.6</td>\n",
       "    </tr>\n",
       "    <tr>\n",
       "      <th>3</th>\n",
       "      <td>2001</td>\n",
       "      <td>Nevada</td>\n",
       "      <td>2.4</td>\n",
       "    </tr>\n",
       "    <tr>\n",
       "      <th>4</th>\n",
       "      <td>2002</td>\n",
       "      <td>Nevada</td>\n",
       "      <td>2.9</td>\n",
       "    </tr>\n",
       "    <tr>\n",
       "      <th>5</th>\n",
       "      <td>2003</td>\n",
       "      <td>Nevada</td>\n",
       "      <td>3.2</td>\n",
       "    </tr>\n",
       "  </tbody>\n",
       "</table>\n",
       "</div>"
      ],
      "text/plain": [
       "   year   state  pop\n",
       "0  2000    Ohio  1.5\n",
       "1  2001    Ohio  1.7\n",
       "2  2002    Ohio  3.6\n",
       "3  2001  Nevada  2.4\n",
       "4  2002  Nevada  2.9\n",
       "5  2003  Nevada  3.2"
      ]
     },
     "execution_count": 32,
     "metadata": {},
     "output_type": "execute_result"
    }
   ],
   "source": [
    "pd.DataFrame(data, columns=['year','state','pop'])"
   ]
  },
  {
   "cell_type": "markdown",
   "id": "a8a5b902",
   "metadata": {},
   "source": [
    " Если запросить столбец, которого нет в data, то он будет заполнен значения\n",
    "ми NaN"
   ]
  },
  {
   "cell_type": "code",
   "execution_count": 46,
   "id": "eaa8a0d0",
   "metadata": {},
   "outputs": [
    {
     "data": {
      "text/plain": [
       "Index(['year', 'state', 'pop', 'debt'], dtype='object')"
      ]
     },
     "execution_count": 46,
     "metadata": {},
     "output_type": "execute_result"
    }
   ],
   "source": [
    "frame2 = pd.DataFrame(data, columns=['year','state','pop','debt'])\n",
    "frame2\n",
    "frame2.columns"
   ]
  },
  {
   "cell_type": "markdown",
   "id": "b8364ec5",
   "metadata": {},
   "source": [
    " Столбец DataFrame можно извлечь как объект Series, воспользовавшись но\n",
    "тацией словарей, или с помощью атрибута\n",
    "\n",
    "!!Синтаксис frame2[column] работает для любого имени столб\n",
    "ца, а frame2.column – только когда имя столбца – допустимое имя \n",
    "переменной Python, не конфликтующее с именами методов \n",
    "DataFrame. Например, если имя столбца содержит пробелы или \n",
    "еще какие-то специальные символы, отличные от знака подчер\n",
    "кивания, то употреблять его в качестве имени атрибута после \n",
    "точки нельзя."
   ]
  },
  {
   "cell_type": "code",
   "execution_count": 47,
   "id": "1b170967",
   "metadata": {},
   "outputs": [
    {
     "data": {
      "text/plain": [
       "0      Ohio\n",
       "1      Ohio\n",
       "2      Ohio\n",
       "3    Nevada\n",
       "4    Nevada\n",
       "5    Nevada\n",
       "Name: state, dtype: object"
      ]
     },
     "execution_count": 47,
     "metadata": {},
     "output_type": "execute_result"
    }
   ],
   "source": [
    "frame2['state']\n",
    "frame2.state"
   ]
  },
  {
   "cell_type": "markdown",
   "id": "8a06330a",
   "metadata": {},
   "source": [
    " Строки также можно извлечь по позиции или по имени с помощью спе\n",
    "циальных атрибутов iloc и loc"
   ]
  },
  {
   "cell_type": "code",
   "execution_count": 54,
   "id": "196ec487",
   "metadata": {},
   "outputs": [
    {
     "data": {
      "text/plain": [
       "year     2001\n",
       "state    Ohio\n",
       "pop       1.7\n",
       "debt      NaN\n",
       "Name: 1, dtype: object"
      ]
     },
     "execution_count": 54,
     "metadata": {},
     "output_type": "execute_result"
    }
   ],
   "source": [
    "frame2.loc[1]\n",
    "frame2.iloc[1]"
   ]
  },
  {
   "cell_type": "markdown",
   "id": "63e6e272",
   "metadata": {},
   "source": [
    " Столбцы можно модифицировать путем присваивания. Например, пустому \n",
    "столбцу debt можно было бы присвоить скалярное значение или массив зна\n",
    "чений:"
   ]
  },
  {
   "cell_type": "code",
   "execution_count": 63,
   "id": "e8018f07",
   "metadata": {},
   "outputs": [
    {
     "data": {
      "application/vnd.microsoft.datawrangler.viewer.v0+json": {
       "columns": [
        {
         "name": "index",
         "rawType": "int64",
         "type": "integer"
        },
        {
         "name": "year",
         "rawType": "int64",
         "type": "integer"
        },
        {
         "name": "state",
         "rawType": "object",
         "type": "string"
        },
        {
         "name": "pop",
         "rawType": "float64",
         "type": "float"
        },
        {
         "name": "debt",
         "rawType": "float64",
         "type": "float"
        }
       ],
       "conversionMethod": "pd.DataFrame",
       "ref": "1c6c1adf-e16f-4560-a86a-6fac22cc56b2",
       "rows": [
        [
         "0",
         "2000",
         "Ohio",
         "1.5",
         "-0.6759462939516183"
        ],
        [
         "1",
         "2001",
         "Ohio",
         "1.7",
         "-2.6516028416702855"
        ],
        [
         "2",
         "2002",
         "Ohio",
         "3.6",
         "-1.5084322339971432"
        ],
        [
         "3",
         "2001",
         "Nevada",
         "2.4",
         "0.5250662820600851"
        ],
        [
         "4",
         "2002",
         "Nevada",
         "2.9",
         "1.4038594317822415"
        ],
        [
         "5",
         "2003",
         "Nevada",
         "3.2",
         "-2.013364346352246"
        ]
       ],
       "shape": {
        "columns": 4,
        "rows": 6
       }
      },
      "text/html": [
       "<div>\n",
       "<style scoped>\n",
       "    .dataframe tbody tr th:only-of-type {\n",
       "        vertical-align: middle;\n",
       "    }\n",
       "\n",
       "    .dataframe tbody tr th {\n",
       "        vertical-align: top;\n",
       "    }\n",
       "\n",
       "    .dataframe thead th {\n",
       "        text-align: right;\n",
       "    }\n",
       "</style>\n",
       "<table border=\"1\" class=\"dataframe\">\n",
       "  <thead>\n",
       "    <tr style=\"text-align: right;\">\n",
       "      <th></th>\n",
       "      <th>year</th>\n",
       "      <th>state</th>\n",
       "      <th>pop</th>\n",
       "      <th>debt</th>\n",
       "    </tr>\n",
       "  </thead>\n",
       "  <tbody>\n",
       "    <tr>\n",
       "      <th>0</th>\n",
       "      <td>2000</td>\n",
       "      <td>Ohio</td>\n",
       "      <td>1.5</td>\n",
       "      <td>-0.675946</td>\n",
       "    </tr>\n",
       "    <tr>\n",
       "      <th>1</th>\n",
       "      <td>2001</td>\n",
       "      <td>Ohio</td>\n",
       "      <td>1.7</td>\n",
       "      <td>-2.651603</td>\n",
       "    </tr>\n",
       "    <tr>\n",
       "      <th>2</th>\n",
       "      <td>2002</td>\n",
       "      <td>Ohio</td>\n",
       "      <td>3.6</td>\n",
       "      <td>-1.508432</td>\n",
       "    </tr>\n",
       "    <tr>\n",
       "      <th>3</th>\n",
       "      <td>2001</td>\n",
       "      <td>Nevada</td>\n",
       "      <td>2.4</td>\n",
       "      <td>0.525066</td>\n",
       "    </tr>\n",
       "    <tr>\n",
       "      <th>4</th>\n",
       "      <td>2002</td>\n",
       "      <td>Nevada</td>\n",
       "      <td>2.9</td>\n",
       "      <td>1.403859</td>\n",
       "    </tr>\n",
       "    <tr>\n",
       "      <th>5</th>\n",
       "      <td>2003</td>\n",
       "      <td>Nevada</td>\n",
       "      <td>3.2</td>\n",
       "      <td>-2.013364</td>\n",
       "    </tr>\n",
       "  </tbody>\n",
       "</table>\n",
       "</div>"
      ],
      "text/plain": [
       "   year   state  pop      debt\n",
       "0  2000    Ohio  1.5 -0.675946\n",
       "1  2001    Ohio  1.7 -2.651603\n",
       "2  2002    Ohio  3.6 -1.508432\n",
       "3  2001  Nevada  2.4  0.525066\n",
       "4  2002  Nevada  2.9  1.403859\n",
       "5  2003  Nevada  3.2 -2.013364"
      ]
     },
     "execution_count": 63,
     "metadata": {},
     "output_type": "execute_result"
    }
   ],
   "source": [
    "frame2['debt'] = 16.5\n",
    "frame2\n",
    "frame2['debt'] = np.random.standard_normal(len(frame2['debt']))\n",
    "frame2"
   ]
  },
  {
   "cell_type": "markdown",
   "id": "77f4d6d8",
   "metadata": {},
   "source": [
    "Когда столбцу присваивается список или массив, длина значения должна со\n",
    "впадать с длиной DataFrame. Если же присваивается объект Series, то его метки \n",
    "будут точно выровнены с индексом DataFrame, а в «дырки» будут вставлены \n",
    "значения NA"
   ]
  },
  {
   "cell_type": "code",
   "execution_count": 65,
   "id": "59c97f67",
   "metadata": {},
   "outputs": [
    {
     "data": {
      "application/vnd.microsoft.datawrangler.viewer.v0+json": {
       "columns": [
        {
         "name": "index",
         "rawType": "int64",
         "type": "integer"
        },
        {
         "name": "year",
         "rawType": "int64",
         "type": "integer"
        },
        {
         "name": "state",
         "rawType": "object",
         "type": "string"
        },
        {
         "name": "pop",
         "rawType": "float64",
         "type": "float"
        },
        {
         "name": "debt",
         "rawType": "float64",
         "type": "float"
        }
       ],
       "conversionMethod": "pd.DataFrame",
       "ref": "d5afd356-6281-425d-9fb4-67c2977387c4",
       "rows": [
        [
         "0",
         "2000",
         "Ohio",
         "1.5",
         null
        ],
        [
         "1",
         "2001",
         "Ohio",
         "1.7",
         null
        ],
        [
         "2",
         "2002",
         "Ohio",
         "3.6",
         null
        ],
        [
         "3",
         "2001",
         "Nevada",
         "2.4",
         null
        ],
        [
         "4",
         "2002",
         "Nevada",
         "2.9",
         null
        ],
        [
         "5",
         "2003",
         "Nevada",
         "3.2",
         null
        ]
       ],
       "shape": {
        "columns": 4,
        "rows": 6
       }
      },
      "text/html": [
       "<div>\n",
       "<style scoped>\n",
       "    .dataframe tbody tr th:only-of-type {\n",
       "        vertical-align: middle;\n",
       "    }\n",
       "\n",
       "    .dataframe tbody tr th {\n",
       "        vertical-align: top;\n",
       "    }\n",
       "\n",
       "    .dataframe thead th {\n",
       "        text-align: right;\n",
       "    }\n",
       "</style>\n",
       "<table border=\"1\" class=\"dataframe\">\n",
       "  <thead>\n",
       "    <tr style=\"text-align: right;\">\n",
       "      <th></th>\n",
       "      <th>year</th>\n",
       "      <th>state</th>\n",
       "      <th>pop</th>\n",
       "      <th>debt</th>\n",
       "    </tr>\n",
       "  </thead>\n",
       "  <tbody>\n",
       "    <tr>\n",
       "      <th>0</th>\n",
       "      <td>2000</td>\n",
       "      <td>Ohio</td>\n",
       "      <td>1.5</td>\n",
       "      <td>NaN</td>\n",
       "    </tr>\n",
       "    <tr>\n",
       "      <th>1</th>\n",
       "      <td>2001</td>\n",
       "      <td>Ohio</td>\n",
       "      <td>1.7</td>\n",
       "      <td>NaN</td>\n",
       "    </tr>\n",
       "    <tr>\n",
       "      <th>2</th>\n",
       "      <td>2002</td>\n",
       "      <td>Ohio</td>\n",
       "      <td>3.6</td>\n",
       "      <td>NaN</td>\n",
       "    </tr>\n",
       "    <tr>\n",
       "      <th>3</th>\n",
       "      <td>2001</td>\n",
       "      <td>Nevada</td>\n",
       "      <td>2.4</td>\n",
       "      <td>NaN</td>\n",
       "    </tr>\n",
       "    <tr>\n",
       "      <th>4</th>\n",
       "      <td>2002</td>\n",
       "      <td>Nevada</td>\n",
       "      <td>2.9</td>\n",
       "      <td>NaN</td>\n",
       "    </tr>\n",
       "    <tr>\n",
       "      <th>5</th>\n",
       "      <td>2003</td>\n",
       "      <td>Nevada</td>\n",
       "      <td>3.2</td>\n",
       "      <td>NaN</td>\n",
       "    </tr>\n",
       "  </tbody>\n",
       "</table>\n",
       "</div>"
      ],
      "text/plain": [
       "   year   state  pop  debt\n",
       "0  2000    Ohio  1.5   NaN\n",
       "1  2001    Ohio  1.7   NaN\n",
       "2  2002    Ohio  3.6   NaN\n",
       "3  2001  Nevada  2.4   NaN\n",
       "4  2002  Nevada  2.9   NaN\n",
       "5  2003  Nevada  3.2   NaN"
      ]
     },
     "execution_count": 65,
     "metadata": {},
     "output_type": "execute_result"
    }
   ],
   "source": [
    "val = pd.Series([-1.2, -1.5, -1.7], index=[\"two\", \"four\", \"five\"])\n",
    "frame2['debt'] = val\n",
    "frame2"
   ]
  },
  {
   "cell_type": "markdown",
   "id": "131fbb95",
   "metadata": {},
   "source": [
    " Для удаления столбцов служит ключевое слово del, как и в обычном словаре. \n",
    "Для демонстрации работы del я сначала добавлю новый столбец булевых при\n",
    "знаков, показывающих, находится ли в столбце state значение \"Ohio\""
   ]
  },
  {
   "cell_type": "code",
   "execution_count": 84,
   "id": "a78ad87f",
   "metadata": {},
   "outputs": [
    {
     "data": {
      "text/plain": [
       "Index(['year', 'state', 'pop', 'debt'], dtype='object')"
      ]
     },
     "execution_count": 84,
     "metadata": {},
     "output_type": "execute_result"
    }
   ],
   "source": [
    "frame2['eastern'] = frame2['state'] == 'Ohio'\n",
    "frame2\n",
    "# !!  Новый столбец нельзя создать, пользуясь синтаксисом frame2.eastern\n",
    "frame2.eastern = frame2.state == 'Ohio'\n",
    "frame2\n",
    "#Затем для удаления этого столбца я воспользуюсь методом del\n",
    "del frame2['eastern']\n",
    "frame2.columns"
   ]
  },
  {
   "cell_type": "markdown",
   "id": "7ae04f9f",
   "metadata": {},
   "source": [
    "Столбец, возвращенный в ответ на запрос к DataFrame по индек\n",
    "су, является представлением, а не копией данных. Следователь\n",
    "но, любые модификации этого объекта Series найдут отражение \n",
    "в DataFrame. Чтобы скопировать столбец, нужно явно вызвать \n",
    "метод copy объекта Series."
   ]
  },
  {
   "cell_type": "code",
   "execution_count": 82,
   "id": "2607b88e",
   "metadata": {},
   "outputs": [],
   "source": [
    "# frame2['state'] = 'Tashkent'\n",
    "# frame2"
   ]
  },
  {
   "cell_type": "code",
   "execution_count": 85,
   "id": "051f5eb7",
   "metadata": {},
   "outputs": [
    {
     "data": {
      "application/vnd.microsoft.datawrangler.viewer.v0+json": {
       "columns": [
        {
         "name": "index",
         "rawType": "int64",
         "type": "integer"
        },
        {
         "name": "year",
         "rawType": "int64",
         "type": "integer"
        },
        {
         "name": "state",
         "rawType": "object",
         "type": "string"
        },
        {
         "name": "pop",
         "rawType": "float64",
         "type": "float"
        },
        {
         "name": "debt",
         "rawType": "float64",
         "type": "float"
        }
       ],
       "conversionMethod": "pd.DataFrame",
       "ref": "31acc892-2f73-4d27-a830-53116222fade",
       "rows": [
        [
         "0",
         "2000",
         "Tashkent",
         "1.5",
         null
        ],
        [
         "1",
         "2001",
         "Tashkent",
         "1.7",
         null
        ],
        [
         "2",
         "2002",
         "Tashkent",
         "3.6",
         null
        ],
        [
         "3",
         "2001",
         "Tashkent",
         "2.4",
         null
        ],
        [
         "4",
         "2002",
         "Tashkent",
         "2.9",
         null
        ],
        [
         "5",
         "2003",
         "Tashkent",
         "3.2",
         null
        ]
       ],
       "shape": {
        "columns": 4,
        "rows": 6
       }
      },
      "text/html": [
       "<div>\n",
       "<style scoped>\n",
       "    .dataframe tbody tr th:only-of-type {\n",
       "        vertical-align: middle;\n",
       "    }\n",
       "\n",
       "    .dataframe tbody tr th {\n",
       "        vertical-align: top;\n",
       "    }\n",
       "\n",
       "    .dataframe thead th {\n",
       "        text-align: right;\n",
       "    }\n",
       "</style>\n",
       "<table border=\"1\" class=\"dataframe\">\n",
       "  <thead>\n",
       "    <tr style=\"text-align: right;\">\n",
       "      <th></th>\n",
       "      <th>year</th>\n",
       "      <th>state</th>\n",
       "      <th>pop</th>\n",
       "      <th>debt</th>\n",
       "    </tr>\n",
       "  </thead>\n",
       "  <tbody>\n",
       "    <tr>\n",
       "      <th>0</th>\n",
       "      <td>2000</td>\n",
       "      <td>Tashkent</td>\n",
       "      <td>1.5</td>\n",
       "      <td>NaN</td>\n",
       "    </tr>\n",
       "    <tr>\n",
       "      <th>1</th>\n",
       "      <td>2001</td>\n",
       "      <td>Tashkent</td>\n",
       "      <td>1.7</td>\n",
       "      <td>NaN</td>\n",
       "    </tr>\n",
       "    <tr>\n",
       "      <th>2</th>\n",
       "      <td>2002</td>\n",
       "      <td>Tashkent</td>\n",
       "      <td>3.6</td>\n",
       "      <td>NaN</td>\n",
       "    </tr>\n",
       "    <tr>\n",
       "      <th>3</th>\n",
       "      <td>2001</td>\n",
       "      <td>Tashkent</td>\n",
       "      <td>2.4</td>\n",
       "      <td>NaN</td>\n",
       "    </tr>\n",
       "    <tr>\n",
       "      <th>4</th>\n",
       "      <td>2002</td>\n",
       "      <td>Tashkent</td>\n",
       "      <td>2.9</td>\n",
       "      <td>NaN</td>\n",
       "    </tr>\n",
       "    <tr>\n",
       "      <th>5</th>\n",
       "      <td>2003</td>\n",
       "      <td>Tashkent</td>\n",
       "      <td>3.2</td>\n",
       "      <td>NaN</td>\n",
       "    </tr>\n",
       "  </tbody>\n",
       "</table>\n",
       "</div>"
      ],
      "text/plain": [
       "   year     state  pop  debt\n",
       "0  2000  Tashkent  1.5   NaN\n",
       "1  2001  Tashkent  1.7   NaN\n",
       "2  2002  Tashkent  3.6   NaN\n",
       "3  2001  Tashkent  2.4   NaN\n",
       "4  2002  Tashkent  2.9   NaN\n",
       "5  2003  Tashkent  3.2   NaN"
      ]
     },
     "execution_count": 85,
     "metadata": {},
     "output_type": "execute_result"
    }
   ],
   "source": [
    "frame2"
   ]
  },
  {
   "cell_type": "markdown",
   "id": "ccf300bc",
   "metadata": {},
   "source": []
  },
  {
   "cell_type": "code",
   "execution_count": null,
   "id": "734096ad",
   "metadata": {},
   "outputs": [],
   "source": []
  },
  {
   "cell_type": "code",
   "execution_count": null,
   "id": "e37954dd",
   "metadata": {},
   "outputs": [],
   "source": []
  },
  {
   "cell_type": "markdown",
   "id": "4663e163",
   "metadata": {},
   "source": []
  },
  {
   "cell_type": "code",
   "execution_count": null,
   "id": "f824b9cb",
   "metadata": {},
   "outputs": [],
   "source": []
  },
  {
   "cell_type": "markdown",
   "id": "10957c6d",
   "metadata": {},
   "source": []
  },
  {
   "cell_type": "code",
   "execution_count": null,
   "id": "7c1ed4f9",
   "metadata": {},
   "outputs": [],
   "source": []
  },
  {
   "cell_type": "markdown",
   "id": "c83c5607",
   "metadata": {},
   "source": []
  },
  {
   "cell_type": "code",
   "execution_count": null,
   "id": "fa9288cb",
   "metadata": {},
   "outputs": [],
   "source": []
  },
  {
   "cell_type": "markdown",
   "id": "01af0bc1",
   "metadata": {},
   "source": []
  }
 ],
 "metadata": {
  "kernelspec": {
   "display_name": "Python (myenv)",
   "language": "python",
   "name": "myenv"
  },
  "language_info": {
   "codemirror_mode": {
    "name": "ipython",
    "version": 3
   },
   "file_extension": ".py",
   "mimetype": "text/x-python",
   "name": "python",
   "nbconvert_exporter": "python",
   "pygments_lexer": "ipython3",
   "version": "3.10.8"
  }
 },
 "nbformat": 4,
 "nbformat_minor": 5
}
