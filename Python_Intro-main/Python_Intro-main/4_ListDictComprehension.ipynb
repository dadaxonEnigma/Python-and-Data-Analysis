{
 "metadata": {
  "language_info": {
   "codemirror_mode": {
    "name": "ipython",
    "version": 3
   },
   "file_extension": ".py",
   "mimetype": "text/x-python",
   "name": "python",
   "nbconvert_exporter": "python",
   "pygments_lexer": "ipython3",
   "version": "3.7.7-final"
  },
  "orig_nbformat": 2,
  "kernelspec": {
   "name": "python3",
   "display_name": "Python 3"
  }
 },
 "nbformat": 4,
 "nbformat_minor": 2,
 "cells": [
  {
   "source": [
    "# List (Set/Tuple/Dictionary) Comprehension\n",
    "  \n",
    "## 0. Background and Overview\n",
    "\n",
    "List comprehension is a more concise way (i.e. less lines of codes) to create lists.   \n",
    "\n",
    "If you're new to python, just having an understanding that these exist is important.  Using only for-loops (vice list comprehension) is PERFECTLY acceptable; the tips below make code more precise.\n",
    "\n",
    "### For this we will cover:\n",
    "\n",
    "### 1. List Comprehension \n",
    "    \n",
    "### 2. Comprehension for other objects - Set, Tuples, & Dictionaries\n",
    "\n",
    "### 3. Conditons in Comprehension\n"
   ],
   "cell_type": "markdown",
   "metadata": {}
  },
  {
   "source": [
    "## 1. List Comprehension  \n",
    "\n",
    "#### Comparing the same method with only a for-loop\n",
    "```python\n",
    "list = []\n",
    "for (iter) in (iterable):  # test\n",
    "    list.append(output expression)    \n",
    "```\n",
    "\n",
    "#### List Comprehension to ... create a list\n",
    "```python\n",
    "[(output expression) for (iter) in (iterable)]\n",
    "```\n",
    "\n",
    "\n",
    "\n"
   ],
   "cell_type": "markdown",
   "metadata": {}
  },
  {
   "source": [
    "Simple for loop vs list comprehension"
   ],
   "cell_type": "markdown",
   "metadata": {}
  },
  {
   "cell_type": "code",
   "execution_count": 4,
   "metadata": {},
   "outputs": [
    {
     "output_type": "execute_result",
     "data": {
      "text/plain": [
       "[0, 1, 2, 3, 4, 5, 6, 7, 8, 9]"
      ]
     },
     "metadata": {},
     "execution_count": 4
    }
   ],
   "source": [
    "numbers = []\n",
    "for number in range(10):\n",
    "    numbers.append(number)\n",
    "\n",
    "numbers"
   ]
  },
  {
   "cell_type": "code",
   "execution_count": 2,
   "metadata": {},
   "outputs": [
    {
     "output_type": "execute_result",
     "data": {
      "text/plain": [
       "[0, 1, 2, 3, 4, 5, 6, 7, 8, 9]"
      ]
     },
     "metadata": {},
     "execution_count": 2
    }
   ],
   "source": [
    "[number for number in range(10)]"
   ]
  },
  {
   "source": [
    "Modifying output expression: for loop vs list comprehension"
   ],
   "cell_type": "markdown",
   "metadata": {}
  },
  {
   "cell_type": "code",
   "execution_count": 7,
   "metadata": {},
   "outputs": [
    {
     "output_type": "execute_result",
     "data": {
      "text/plain": [
       "[0, 1, 4, 9, 16, 25, 36, 49, 64, 81]"
      ]
     },
     "metadata": {},
     "execution_count": 7
    }
   ],
   "source": [
    "numbers = []\n",
    "for number in range(10):\n",
    "    numbers.append(number**2)\n",
    "\n",
    "numbers"
   ]
  },
  {
   "cell_type": "code",
   "execution_count": 6,
   "metadata": {},
   "outputs": [
    {
     "output_type": "execute_result",
     "data": {
      "text/plain": [
       "[0, 1, 4, 9, 16, 25, 36, 49, 64, 81]"
      ]
     },
     "metadata": {},
     "execution_count": 6
    }
   ],
   "source": [
    "[number**2 for number in range(10)]"
   ]
  },
  {
   "source": [
    "## 2. Comprehension for other objects  \n",
    "\n",
    "#### Tuple Comprehension* () - Immutable objects  \n",
    "*Tuple Comprehension is not standard to Python;  Without using tuple() method you will get a generator object (vice tuple object)\n",
    "```python\n",
    "tuple((output expression) for (iter) in (iterable))\n",
    "```\n",
    "\n",
    "#### Set Comprehension {} - Unique values & unordered\n",
    "```python\n",
    "{(output expression) for (iter) in (iterable)} \n",
    "```\n",
    "\n",
    "#### Dictionary Comprehension {:}  - Key : Value pairs\n",
    "```python\n",
    "{(output expression no.1): (output expression no.2) for (iter) in (iterable)} \n",
    "```"
   ],
   "cell_type": "markdown",
   "metadata": {}
  },
  {
   "source": [
    "Tuple Comprehension"
   ],
   "cell_type": "markdown",
   "metadata": {}
  },
  {
   "cell_type": "code",
   "execution_count": 63,
   "metadata": {},
   "outputs": [
    {
     "output_type": "execute_result",
     "data": {
      "text/plain": [
       "(0, 1, 0, 1, 0, 1, 0, 1, 0, 1)"
      ]
     },
     "metadata": {},
     "execution_count": 63
    }
   ],
   "source": [
    "tuple(numbers % 2 for numbers in range(10))     # Use tuple() function to convert generator to tuple"
   ]
  },
  {
   "source": [
    "Set Comprehension"
   ],
   "cell_type": "markdown",
   "metadata": {}
  },
  {
   "cell_type": "code",
   "execution_count": 83,
   "metadata": {},
   "outputs": [
    {
     "output_type": "execute_result",
     "data": {
      "text/plain": [
       "{0, 1}"
      ]
     },
     "metadata": {},
     "execution_count": 83
    }
   ],
   "source": [
    "{numbers % 2 for numbers in range(10)}"
   ]
  },
  {
   "source": [
    "Dictionary Comprehension"
   ],
   "cell_type": "markdown",
   "metadata": {}
  },
  {
   "cell_type": "code",
   "execution_count": 85,
   "metadata": {},
   "outputs": [
    {
     "output_type": "execute_result",
     "data": {
      "text/plain": [
       "{0: 0, 1: 1, 2: 0, 3: 1, 4: 0, 5: 1, 6: 0, 7: 1, 8: 0, 9: 1}"
      ]
     },
     "metadata": {},
     "execution_count": 85
    }
   ],
   "source": [
    "{num: num % 2 for num in range(10)}"
   ]
  },
  {
   "source": [
    "Dictionary Comprehenison ft. zip()"
   ],
   "cell_type": "markdown",
   "metadata": {}
  },
  {
   "cell_type": "code",
   "execution_count": 66,
   "metadata": {},
   "outputs": [
    {
     "output_type": "stream",
     "name": "stdout",
     "text": [
      "[('Michael', 'Regional Manager'), ('Pam', 'Receptionist'), ('Jim', 'Salesman'), ('Dwight', 'Assistant to the Regional Manager')]\n"
     ]
    },
    {
     "output_type": "execute_result",
     "data": {
      "text/plain": [
       "{'Michael': 'Regional Manager',\n",
       " 'Pam': 'Receptionist',\n",
       " 'Jim': 'Salesman',\n",
       " 'Dwight': 'Assistant to the Regional Manager'}"
      ]
     },
     "metadata": {},
     "execution_count": 66
    }
   ],
   "source": [
    "names = ['Michael', 'Pam', 'Jim', 'Dwight']\n",
    "roles = ['Regional Manager', 'Receptionist', 'Salesman', 'Assistant to the Regional Manager']\n",
    "\n",
    "print(list(zip(names, roles)))      # Zip makes an iterator that aggregates elements \n",
    "\n",
    "{name: role for name, role in zip(names, roles)}"
   ]
  },
  {
   "source": [
    "## 3. Conditons in Comprehension  \n",
    "\n",
    "#### Using if-statements to filter list results\n",
    "```python\n",
    "[(output expression) for (iter) in (iterable) if (condition)]\n",
    "```"
   ],
   "cell_type": "markdown",
   "metadata": {}
  },
  {
   "cell_type": "code",
   "execution_count": 92,
   "metadata": {},
   "outputs": [
    {
     "output_type": "execute_result",
     "data": {
      "text/plain": [
       "[0, 2, 4, 6, 8]"
      ]
     },
     "metadata": {},
     "execution_count": 92
    }
   ],
   "source": [
    "numbers = []\n",
    "for number in range(10):\n",
    "    if number % 2 == 0:\n",
    "        numbers.append(number)\n",
    "\n",
    "numbers"
   ]
  },
  {
   "cell_type": "code",
   "execution_count": 94,
   "metadata": {},
   "outputs": [
    {
     "output_type": "execute_result",
     "data": {
      "text/plain": [
       "[0, 2, 4, 6, 8]"
      ]
     },
     "metadata": {},
     "execution_count": 94
    }
   ],
   "source": [
    "[number for number in range(10) if number % 2 == 0]"
   ]
  },
  {
   "source": [
    "## 4. Application\n",
    "\n",
    "#### Display the seasons an actor was a part of based on user-input.\n"
   ],
   "cell_type": "markdown",
   "metadata": {}
  },
  {
   "source": [
    "1. Read contents of csv file containing actor information  \n",
    "2. Use set coprehension to extract seasons actor was a part of  \n",
    "3. Make it to where user can input actor's name  "
   ],
   "cell_type": "markdown",
   "metadata": {}
  },
  {
   "cell_type": "code",
   "execution_count": 5,
   "metadata": {},
   "outputs": [
    {
     "output_type": "stream",
     "name": "stdout",
     "text": [
      "['id', 'season', 'episode', 'scene', 'line_text', 'speaker', 'deleted']\n"
     ]
    }
   ],
   "source": [
    "import csv\n",
    "\n",
    "csvfile = open('the_office_data/scripts_the_office.csv')\n",
    "csvreader = csv.reader(csvfile)\n",
    "for row in csvreader:\n",
    "    print(row)\n",
    "    break\n",
    "csvfile.close()"
   ]
  },
  {
   "cell_type": "code",
   "execution_count": 16,
   "metadata": {},
   "outputs": [
    {
     "output_type": "stream",
     "name": "stdout",
     "text": [
      "season speaker\n"
     ]
    }
   ],
   "source": [
    "csvfile = open('the_office_data/scripts_the_office.csv')\n",
    "csvreader = csv.reader(csvfile)     # This reads the file\n",
    "\n",
    "for row in csvreader:\n",
    "    print(row[1], row[5])\n",
    "    break\n",
    "\n",
    "csvfile.close()"
   ]
  },
  {
   "cell_type": "code",
   "execution_count": 9,
   "metadata": {},
   "outputs": [
    {
     "output_type": "stream",
     "name": "stdout",
     "text": [
      " appeared in season(s): \n ['1', '2', '3', '4', '5', '6', '7', '8', '9', 'season']\n"
     ]
    }
   ],
   "source": [
    "actor = input(\"Name an actor to see what seasons they were apart of:\")\n",
    "\n",
    "csvfile = open('the_office_data/scripts_the_office.csv')\n",
    "csvreader = csv.reader(csvfile)     # This reads the file\n",
    "\n",
    "\n",
    "actor_appearance = {row[1]  for row in csvreader if actor in row[5]}\n",
    "\n",
    "csvfile.close()\n",
    "\n",
    "print(actor, 'appeared in season(s): \\n', sorted(actor_appearance))"
   ]
  },
  {
   "source": [
    "#### Actors to try:\n",
    " Warren Buffett = himself  \n",
    " Deangelo Vickers = Will Ferrell  \n",
    " Finger Lakes Guy = Jim Carrey  \n",
    " Merv Bronte = Ray Romano  \n",
    " Ed Helms = Andy Bernad   "
   ],
   "cell_type": "markdown",
   "metadata": {}
  }
 ]
}