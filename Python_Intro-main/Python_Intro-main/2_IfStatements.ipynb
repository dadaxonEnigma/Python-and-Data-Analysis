{
 "metadata": {
  "language_info": {
   "codemirror_mode": {
    "name": "ipython",
    "version": 3
   },
   "file_extension": ".py",
   "mimetype": "text/x-python",
   "name": "python",
   "nbconvert_exporter": "python",
   "pygments_lexer": "ipython3",
   "version": "3.7.7-final"
  },
  "orig_nbformat": 2,
  "kernelspec": {
   "name": "python3",
   "display_name": "Python 3"
  }
 },
 "nbformat": 4,
 "nbformat_minor": 2,
 "cells": [
  {
   "source": [
    "# If Statements with Comparison & Logical Operators  \n",
    "  \n",
    "## 0. Background and Overview\n",
    "\n",
    "IF you want to understand the basics of if statments THEN follow along in this notebook, ELSE check out my YouTube video.\n",
    "\n",
    "If statemnts are control flow statments that tell a computer what to do with certain information.  Try to think of it like a True or False statment.\n",
    "\n",
    "### For this we will cover:\n",
    "\n",
    "### 1. If statements  \n",
    "    e.g., if, elif, else\n",
    "    \n",
    "### 2. Comparison Operators\n",
    "    e.g.,  ==, !=, >, <\n",
    "\n",
    "### 3. Logical Operators  \n",
    "    e.g.,  and, or, not\n",
    "\n",
    "### 4. Other Operators (Identity and Membership) \n",
    "    e.g.,  is, in"
   ],
   "cell_type": "markdown",
   "metadata": {}
  },
  {
   "source": [
    "## 1. If Statments  \n",
    "\n",
    "```python\n",
    "if (condition):  \n",
    "    (code to execute if condition True)     \n",
    "```\n"
   ],
   "cell_type": "markdown",
   "metadata": {}
  },
  {
   "cell_type": "code",
   "execution_count": 85,
   "metadata": {},
   "outputs": [
    {
     "output_type": "stream",
     "name": "stdout",
     "text": [
      "This will print\n"
     ]
    }
   ],
   "source": [
    "if True:\n",
    "    print(\"This will print\")"
   ]
  },
  {
   "cell_type": "code",
   "execution_count": 86,
   "metadata": {},
   "outputs": [
    {
     "output_type": "stream",
     "name": "stdout",
     "text": [
      "But this will!\n"
     ]
    }
   ],
   "source": [
    "if False:\n",
    "    print(\"This won't print\")\n",
    "print(\"But this will!\") "
   ]
  },
  {
   "source": [
    "```python\n",
    "if (condition):  \n",
    "    (code to execute if condition True)     # Everything past this is optional \n",
    "else:  \n",
    "    (code to execute if none of above conditons are True)    \n",
    "```"
   ],
   "cell_type": "markdown",
   "metadata": {}
  },
  {
   "cell_type": "code",
   "execution_count": 87,
   "metadata": {},
   "outputs": [
    {
     "output_type": "stream",
     "name": "stdout",
     "text": [
      "But this will!\n"
     ]
    }
   ],
   "source": [
    "if False:\n",
    "    print(\"This won't print\")\n",
    "else:          # else is an optional part to add to an if statement        \n",
    "    print(\"But this will!\") "
   ]
  },
  {
   "source": [
    "```python\n",
    "if (condition):  \n",
    "    (code to execute if condition True)     # Everything past this is optional\n",
    "elif (condition):  \n",
    "    (code to execute if 'elif' True and 'if' False)\n",
    "elif (condition):  \n",
    "    (code to execute if THIS 'elif' True and 'if' & 'elif' above is False)    \n",
    "else:  \n",
    "    (code to execute if none of above conditons are True)    \n",
    "```"
   ],
   "cell_type": "markdown",
   "metadata": {}
  },
  {
   "cell_type": "code",
   "execution_count": 88,
   "metadata": {},
   "outputs": [
    {
     "output_type": "stream",
     "name": "stdout",
     "text": [
      "But this will!\n"
     ]
    }
   ],
   "source": [
    "if False:\n",
    "    print(\"This won't print\")\n",
    "elif True:      # elif is used to evaluate other condition\n",
    "    print(\"But this will!\")\n",
    "elif True:      # The first elif (or if) evaluated as True is carried out\n",
    "    print(\"This will be skipped\")\n",
    "else:\n",
    "    print(\"And this will be skipped\")  "
   ]
  },
  {
   "source": [
    "## 2. Comparison Operators  \n",
    "Used to compare two values"
   ],
   "cell_type": "markdown",
   "metadata": {}
  },
  {
   "cell_type": "code",
   "execution_count": 89,
   "metadata": {},
   "outputs": [
    {
     "output_type": "execute_result",
     "data": {
      "text/plain": [
       "True"
      ]
     },
     "metadata": {},
     "execution_count": 89
    }
   ],
   "source": [
    "0 == 0"
   ]
  },
  {
   "cell_type": "code",
   "execution_count": 90,
   "metadata": {},
   "outputs": [
    {
     "output_type": "execute_result",
     "data": {
      "text/plain": [
       "False"
      ]
     },
     "metadata": {},
     "execution_count": 90
    }
   ],
   "source": [
    "0 == 1"
   ]
  },
  {
   "source": [
    "Common mistake: Don't use assignment operator as comparator operator"
   ],
   "cell_type": "markdown",
   "metadata": {}
  },
  {
   "cell_type": "code",
   "execution_count": 91,
   "metadata": {},
   "outputs": [
    {
     "output_type": "error",
     "ename": "SyntaxError",
     "evalue": "can't assign to literal (<ipython-input-91-261d9f860c05>, line 1)",
     "traceback": [
      "\u001b[0;36m  File \u001b[0;32m\"<ipython-input-91-261d9f860c05>\"\u001b[0;36m, line \u001b[0;32m1\u001b[0m\n\u001b[0;31m    0 = 1\u001b[0m\n\u001b[0m         ^\u001b[0m\n\u001b[0;31mSyntaxError\u001b[0m\u001b[0;31m:\u001b[0m can't assign to literal\n"
     ]
    }
   ],
   "source": [
    "0 = 1"
   ]
  },
  {
   "source": [
    "Other Comparison Operators"
   ],
   "cell_type": "markdown",
   "metadata": {}
  },
  {
   "cell_type": "code",
   "execution_count": 92,
   "metadata": {},
   "outputs": [
    {
     "output_type": "stream",
     "name": "stdout",
     "text": [
      "True\nTrue\nFalse\n"
     ]
    }
   ],
   "source": [
    "print(0 != 1)   # True - != Does not equal\n",
    "print(0 < 1)   # True - < Less than (or > Greater than )\n",
    "print(0 >= 1)   # False - >= Greater than or equal to (or <=)"
   ]
  },
  {
   "source": [
    "Comparison Operators in action"
   ],
   "cell_type": "markdown",
   "metadata": {}
  },
  {
   "cell_type": "code",
   "execution_count": 94,
   "metadata": {},
   "outputs": [
    {
     "output_type": "stream",
     "name": "stdout",
     "text": [
      "Get out of here Dwight\n"
     ]
    }
   ],
   "source": [
    "name = \"Dwight\"\n",
    "\n",
    "if name == \"Michael\":\n",
    "    print(\"Hi, Michael\")\n",
    "elif name == \"Dwight\":\n",
    "    print(\"Get out of here Dwight\")\n",
    "else:\n",
    "    print(\"Welcome!\")"
   ]
  },
  {
   "source": [
    "## 3. Logical Operators  \n",
    "Used to combine conditonal statement:  \n",
    "'and' - both must be True to get True  \n",
    "'or' - one must be True to get True"
   ],
   "cell_type": "markdown",
   "metadata": {}
  },
  {
   "cell_type": "code",
   "execution_count": 17,
   "metadata": {},
   "outputs": [
    {
     "output_type": "execute_result",
     "data": {
      "text/plain": [
       "True"
      ]
     },
     "metadata": {},
     "execution_count": 17
    }
   ],
   "source": [
    "True and True       # and - both sides must be True to be True"
   ]
  },
  {
   "cell_type": "code",
   "execution_count": 28,
   "metadata": {},
   "outputs": [
    {
     "output_type": "execute_result",
     "data": {
      "text/plain": [
       "False"
      ]
     },
     "metadata": {},
     "execution_count": 28
    }
   ],
   "source": [
    "True and False"
   ]
  },
  {
   "cell_type": "code",
   "execution_count": 19,
   "metadata": {},
   "outputs": [
    {
     "output_type": "execute_result",
     "data": {
      "text/plain": [
       "True"
      ]
     },
     "metadata": {},
     "execution_count": 19
    }
   ],
   "source": [
    "True or False       # or - one side must be True to be True"
   ]
  },
  {
   "cell_type": "code",
   "execution_count": 29,
   "metadata": {},
   "outputs": [
    {
     "output_type": "execute_result",
     "data": {
      "text/plain": [
       "True"
      ]
     },
     "metadata": {},
     "execution_count": 29
    }
   ],
   "source": [
    "not True == False      # not - negates the Boolean expression"
   ]
  },
  {
   "cell_type": "code",
   "execution_count": 2,
   "metadata": {},
   "outputs": [
    {
     "output_type": "execute_result",
     "data": {
      "text/plain": [
       "True"
      ]
     },
     "metadata": {},
     "execution_count": 2
    }
   ],
   "source": [
    "  False or True and not False   # Order of precedence\n",
    "# False or True                 # and condition evaluated first\n",
    "# True                          # or condition evaluated second"
   ]
  },
  {
   "source": [
    "More here on Operator precedence: https://docs.python.org/3/reference/expressions.html#operator-precedence"
   ],
   "cell_type": "markdown",
   "metadata": {}
  },
  {
   "source": [
    "## 4. Other Operators  \n",
    "### Membership Operators - in"
   ],
   "cell_type": "markdown",
   "metadata": {}
  },
  {
   "cell_type": "code",
   "execution_count": 102,
   "metadata": {},
   "outputs": [
    {
     "output_type": "execute_result",
     "data": {
      "text/plain": [
       "False"
      ]
     },
     "metadata": {},
     "execution_count": 102
    }
   ],
   "source": [
    "female_cast = ('Pam', 'Angela', 'Kelly', 'Meredith') \n",
    "\n",
    "'Phyllis' in female_cast"
   ]
  },
  {
   "cell_type": "code",
   "execution_count": 103,
   "metadata": {},
   "outputs": [
    {
     "output_type": "execute_result",
     "data": {
      "text/plain": [
       "True"
      ]
     },
     "metadata": {},
     "execution_count": 103
    }
   ],
   "source": [
    "\"Michaeal\" not in female_cast"
   ]
  },
  {
   "source": [
    "### Identity Operators  \n",
    "#### Use `is` to test object identity (otherwise use `==` to compare)\n",
    "This is not as frequently used in data analysis, BUT it's important to know so you don't misuse it!"
   ],
   "cell_type": "markdown",
   "metadata": {}
  },
  {
   "cell_type": "code",
   "execution_count": 64,
   "metadata": {},
   "outputs": [
    {
     "output_type": "execute_result",
     "data": {
      "text/plain": [
       "True"
      ]
     },
     "metadata": {},
     "execution_count": 64
    }
   ],
   "source": [
    "1 is 1      # Although you could use 'is' to compare, don't do this"
   ]
  },
  {
   "cell_type": "code",
   "execution_count": 69,
   "metadata": {},
   "outputs": [
    {
     "output_type": "execute_result",
     "data": {
      "text/plain": [
       "(4343833728, 4343833728)"
      ]
     },
     "metadata": {},
     "execution_count": 69
    }
   ],
   "source": [
    "id(1), id(1)    # id() returns the identity: a unique and constant for this object during its life"
   ]
  },
  {
   "cell_type": "code",
   "execution_count": 70,
   "metadata": {},
   "outputs": [
    {
     "output_type": "execute_result",
     "data": {
      "text/plain": [
       "False"
      ]
     },
     "metadata": {},
     "execution_count": 70
    }
   ],
   "source": [
    "a = [\"Michael\", \"Dwight\"]\n",
    "b = [\"Michael\", \"Dwight\"]\n",
    "\n",
    "a is b"
   ]
  },
  {
   "cell_type": "code",
   "execution_count": 71,
   "metadata": {},
   "outputs": [
    {
     "output_type": "execute_result",
     "data": {
      "text/plain": [
       "(140567629249504, 140567627606608)"
      ]
     },
     "metadata": {},
     "execution_count": 71
    }
   ],
   "source": [
    "id(a), id(b)"
   ]
  },
  {
   "cell_type": "code",
   "execution_count": 109,
   "metadata": {},
   "outputs": [
    {
     "output_type": "execute_result",
     "data": {
      "text/plain": [
       "True"
      ]
     },
     "metadata": {},
     "execution_count": 109
    }
   ],
   "source": [
    "a == b"
   ]
  },
  {
   "source": [
    "## 5. Application"
   ],
   "cell_type": "markdown",
   "metadata": {}
  },
  {
   "cell_type": "code",
   "execution_count": 79,
   "metadata": {},
   "outputs": [],
   "source": [
    "cast_members = ['Dwight', 'Jim', 'Pam', 'Michael', 'Kelly', 'Creed', 'Angela', 'Phyllis', 'Meredith', 'Ryan', 'Jan', 'Oscar', 'Erin', 'Stanley', 'Toby', 'Darryl', 'Jan', 'Gabe', 'Karen', 'Mose', 'David', 'Holly']"
   ]
  },
  {
   "source": [
    "Want to build a bot that let's users input a name of their favorite character, and that outputs something dependent on the name input. Other rules:\n",
    "```  \n",
    "    1. The name mast be in the 'cast_member' list  \n",
    "    2. If its Micheal, Jim, or Pam say \".... is also my favorite character\"  \n",
    "    3. If its Dwight or Angela say \"... is not my favorite character\"  \n",
    "    4. For anyone else say \"... is a great character\"\n",
    "``` "
   ],
   "cell_type": "markdown",
   "metadata": {}
  },
  {
   "source": [
    "1. The user inputs the name\n",
    "2. Evaluate if name is in list  \n",
    "    2a. Reenter name if not in list  \n",
    "    2b. If statement dependent on name "
   ],
   "cell_type": "markdown",
   "metadata": {}
  },
  {
   "cell_type": "code",
   "execution_count": 119,
   "metadata": {},
   "outputs": [
    {
     "output_type": "stream",
     "name": "stdout",
     "text": [
      "Toby is a great character\n"
     ]
    }
   ],
   "source": [
    "name = input(\"What is your favorite character of The Office?\")\n",
    "\n",
    "if name not in cast_members:\n",
    "    name = input(\"Name not in list - Re-enter name:\")\n",
    "else:\n",
    "    if name == 'Michael' or name == 'Jim' or name == 'Pam':\n",
    "        print(name + \" is my favorite character.\")\n",
    "    elif name != \"Dwight\" and name != \"Angela\":\n",
    "        print(name + \" is a great character\")\n",
    "    else:\n",
    "        print(name + \" is NOT my favorite character\")"
   ]
  },
  {
   "cell_type": "code",
   "execution_count": 116,
   "metadata": {},
   "outputs": [
    {
     "output_type": "execute_result",
     "data": {
      "text/plain": [
       "'Dwight'"
      ]
     },
     "metadata": {},
     "execution_count": 116
    }
   ],
   "source": [
    "name"
   ]
  },
  {
   "cell_type": "code",
   "execution_count": 84,
   "metadata": {},
   "outputs": [],
   "source": [
    "name = input(\"Hello! Who is your favorite cast member of the Office?\")\n",
    "\n",
    "if name not in cast_members:\n",
    "    name = input(\"Try again - This is not in the list\")\n",
    "else:\n",
    "    if name == \"Michael\" or name == \"Jim\" or name == \"Pam\":\n",
    "        print(name + \" is also my favorite character\")\n",
    "    elif name != \"Dwight\" and name != \"Angela\":\n",
    "        print(name + \" is a great character\")\n",
    "    else:\n",
    "        print(name + \" is NOT my favorite character\")"
   ]
  }
 ]
}