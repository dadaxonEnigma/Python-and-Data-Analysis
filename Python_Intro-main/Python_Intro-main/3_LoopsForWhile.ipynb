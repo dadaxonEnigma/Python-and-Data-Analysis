{
 "metadata": {
  "language_info": {
   "codemirror_mode": {
    "name": "ipython",
    "version": 3
   },
   "file_extension": ".py",
   "mimetype": "text/x-python",
   "name": "python",
   "nbconvert_exporter": "python",
   "pygments_lexer": "ipython3",
   "version": "3.8.5-final"
  },
  "orig_nbformat": 2,
  "kernelspec": {
   "name": "python3",
   "display_name": "Python 3"
  }
 },
 "nbformat": 4,
 "nbformat_minor": 2,
 "cells": [
  {
   "source": [
    "# Loops - For and While  \n",
    "  \n",
    "## 0. Background and Overview\n",
    "\n",
    "Loops are a sequence of instructions that are repeated until a certain conditon is reached.\n",
    "\n",
    "### For this we will cover:\n",
    "\n",
    "### 1. For loops \n",
    "    e.g., for, range(), .items(), enumerate()\n",
    "    \n",
    "### 2. While loops\n",
    "    e.g.,  while\n",
    "\n",
    "### 3. Loop control statements\n",
    "    e.g., break, continue, pass"
   ],
   "cell_type": "markdown",
   "metadata": {}
  },
  {
   "source": [
    "## 1. For loops \n",
    "\n",
    "```python\n",
    "for (iter) in (iterable):  \n",
    "    (code to execute while have iter in iterable)     \n",
    "```"
   ],
   "cell_type": "markdown",
   "metadata": {}
  },
  {
   "cell_type": "code",
   "execution_count": 41,
   "metadata": {},
   "outputs": [
    {
     "output_type": "stream",
     "name": "stdout",
     "text": [
      "0\n1\n2\n3\n"
     ]
    }
   ],
   "source": [
    "y = [0, 1, 2, 3]\n",
    "for x in y:     # the iter, 'number', can be ANY variable name\n",
    "    print(x)"
   ]
  },
  {
   "source": [
    "#### range()"
   ],
   "cell_type": "markdown",
   "metadata": {}
  },
  {
   "cell_type": "code",
   "execution_count": 42,
   "metadata": {},
   "outputs": [
    {
     "output_type": "execute_result",
     "data": {
      "text/plain": [
       "range(0, 4)"
      ]
     },
     "metadata": {},
     "execution_count": 42
    }
   ],
   "source": [
    "range(4)"
   ]
  },
  {
   "cell_type": "code",
   "execution_count": 43,
   "metadata": {},
   "outputs": [
    {
     "output_type": "execute_result",
     "data": {
      "text/plain": [
       "[0, 1, 2, 3]"
      ]
     },
     "metadata": {},
     "execution_count": 43
    }
   ],
   "source": [
    "list(range(4))"
   ]
  },
  {
   "cell_type": "code",
   "execution_count": 44,
   "metadata": {},
   "outputs": [
    {
     "output_type": "stream",
     "name": "stdout",
     "text": [
      "4\n6\n8\n"
     ]
    }
   ],
   "source": [
    "for number in range(4, 10, 2):\n",
    "    print(number)"
   ]
  },
  {
   "source": [
    "Python can iterate over items of ANY sequence."
   ],
   "cell_type": "markdown",
   "metadata": {}
  },
  {
   "cell_type": "code",
   "execution_count": 45,
   "metadata": {},
   "outputs": [],
   "source": [
    "ages_cast = {\"Dwight\" : 48, \"Jim\": 34, \"Pam\": 40, \"Michael\": \"No comment\"}"
   ]
  },
  {
   "cell_type": "code",
   "execution_count": 46,
   "metadata": {},
   "outputs": [
    {
     "output_type": "stream",
     "name": "stdout",
     "text": [
      "Dwight\nJim\nPam\nMichael\n"
     ]
    }
   ],
   "source": [
    "for key in ages_cast:\n",
    "    print(key)"
   ]
  },
  {
   "source": [
    "#### Printing contents of dictionaries have two main approaches\n",
    "i. dict\\[key\\]  \n",
    "ii. dict.items()"
   ],
   "cell_type": "markdown",
   "metadata": {}
  },
  {
   "cell_type": "code",
   "execution_count": 47,
   "metadata": {},
   "outputs": [
    {
     "output_type": "execute_result",
     "data": {
      "text/plain": [
       "48"
      ]
     },
     "metadata": {},
     "execution_count": 47
    }
   ],
   "source": [
    "ages_cast[\"Dwight\"]     # Recall, use [] notation to access the 'value' for a specified 'key'"
   ]
  },
  {
   "cell_type": "code",
   "execution_count": 48,
   "metadata": {},
   "outputs": [
    {
     "output_type": "stream",
     "name": "stdout",
     "text": [
      "Dwight   48\nJim   34\nPam   40\nMichael   No comment\n"
     ]
    }
   ],
   "source": [
    "for key in ages_cast:\n",
    "    print(key, \" \", ages_cast[key])"
   ]
  },
  {
   "cell_type": "code",
   "execution_count": 49,
   "metadata": {},
   "outputs": [
    {
     "output_type": "execute_result",
     "data": {
      "text/plain": [
       "dict_items([('Dwight', 48), ('Jim', 34), ('Pam', 40), ('Michael', 'No comment')])"
      ]
     },
     "metadata": {},
     "execution_count": 49
    }
   ],
   "source": [
    "ages_cast.items()"
   ]
  },
  {
   "cell_type": "code",
   "execution_count": 50,
   "metadata": {},
   "outputs": [
    {
     "output_type": "stream",
     "name": "stdout",
     "text": [
      "Dwight   48\nJim   34\nPam   40\nMichael   No comment\n"
     ]
    }
   ],
   "source": [
    "for key, value in ages_cast.items():\n",
    "    print(key, \" \", value)"
   ]
  },
  {
   "source": [
    "#### enumerate() - Getting the index of an iterable"
   ],
   "cell_type": "markdown",
   "metadata": {}
  },
  {
   "cell_type": "code",
   "execution_count": 51,
   "metadata": {},
   "outputs": [
    {
     "output_type": "stream",
     "name": "stdout",
     "text": [
      "Pam\nAngela\nKelly\nMeredith\n"
     ]
    }
   ],
   "source": [
    "female_cast = ('Pam', 'Angela', 'Kelly', 'Meredith')  # ordered by numer of episodes appeared with in\n",
    "\n",
    "for female in female_cast:\n",
    "    print(female)"
   ]
  },
  {
   "cell_type": "code",
   "execution_count": 52,
   "metadata": {},
   "outputs": [
    {
     "output_type": "execute_result",
     "data": {
      "text/plain": [
       "[(0, 'Pam'), (1, 'Angela'), (2, 'Kelly'), (3, 'Meredith')]"
      ]
     },
     "metadata": {},
     "execution_count": 52
    }
   ],
   "source": [
    "list(enumerate(female_cast))"
   ]
  },
  {
   "cell_type": "code",
   "execution_count": 53,
   "metadata": {},
   "outputs": [
    {
     "output_type": "stream",
     "name": "stdout",
     "text": [
      "Highest number of 'The Office' appearances:\n1 .  Pam\n2 .  Angela\n3 .  Kelly\n4 .  Meredith\n"
     ]
    }
   ],
   "source": [
    "print(\"Highest number of 'The Office' appearances:\")\n",
    "for index, value in enumerate(female_cast):\n",
    "    print((index + 1), '. ', value)"
   ]
  },
  {
   "source": [
    "## 2. While loops \n",
    "\n",
    "```python\n",
    "while (condition):  \n",
    "    (code to execute while condition is True)     \n",
    "```"
   ],
   "cell_type": "markdown",
   "metadata": {}
  },
  {
   "cell_type": "code",
   "execution_count": 54,
   "metadata": {},
   "outputs": [
    {
     "output_type": "stream",
     "name": "stdout",
     "text": [
      "Dwight was here\n"
     ]
    }
   ],
   "source": [
    "condition = True\n",
    "while condition:\n",
    "    print(\"Dwight was here\")\n",
    "    condition = False"
   ]
  },
  {
   "cell_type": "code",
   "execution_count": 55,
   "metadata": {},
   "outputs": [
    {
     "output_type": "stream",
     "name": "stdout",
     "text": [
      "0\n1\n2\n"
     ]
    }
   ],
   "source": [
    "x = 0\n",
    "while x < 3:\n",
    "    print(x)\n",
    "    x += 1"
   ]
  },
  {
   "cell_type": "code",
   "execution_count": 56,
   "metadata": {},
   "outputs": [
    {
     "output_type": "stream",
     "name": "stdout",
     "text": [
      "0\n1\n2\n"
     ]
    }
   ],
   "source": [
    "for x in range(0, 3):       # Although this is more concise\n",
    "    print(x)"
   ]
  },
  {
   "source": [
    "## 3. Loop Control Statements\n",
    "\n",
    "#### break - use to exit a loop"
   ],
   "cell_type": "markdown",
   "metadata": {}
  },
  {
   "cell_type": "code",
   "execution_count": 57,
   "metadata": {},
   "outputs": [
    {
     "output_type": "stream",
     "name": "stdout",
     "text": [
      "Pam\nAngela\n"
     ]
    }
   ],
   "source": [
    "female_cast = ('Pam', 'Angela', 'Kelly', 'Meredith') \n",
    "\n",
    "for female in female_cast:\n",
    "    if female == 'Kelly':\n",
    "        break       # Used to exit loop\n",
    "    print(female)"
   ]
  },
  {
   "cell_type": "code",
   "execution_count": 58,
   "metadata": {},
   "outputs": [
    {
     "output_type": "stream",
     "name": "stdout",
     "text": [
      "Dwight was here\n"
     ]
    }
   ],
   "source": [
    "while True:                     \n",
    "    print(\"Dwight was here\")\n",
    "    break     # Also used in debugging/testing loops"
   ]
  },
  {
   "source": [
    "#### continue - use to go to next item in loop"
   ],
   "cell_type": "markdown",
   "metadata": {}
  },
  {
   "cell_type": "code",
   "execution_count": 59,
   "metadata": {},
   "outputs": [
    {
     "output_type": "stream",
     "name": "stdout",
     "text": [
      "Pam\nAngela\nMeredith\n"
     ]
    }
   ],
   "source": [
    "female_cast = ('Pam', 'Angela', 'Kelly', 'Meredith') \n",
    "\n",
    "for female in female_cast:\n",
    "    if female == 'Kelly':\n",
    "        continue    # Used to skip following lines of code\n",
    "    print(female)"
   ]
  },
  {
   "source": [
    "#### pass - not as imporatant but can be used in testing/debugging"
   ],
   "cell_type": "markdown",
   "metadata": {}
  },
  {
   "cell_type": "code",
   "execution_count": 61,
   "metadata": {},
   "outputs": [
    {
     "output_type": "error",
     "ename": "SyntaxError",
     "evalue": "unexpected EOF while parsing (<ipython-input-61-1e598a57219f>, line 1)",
     "traceback": [
      "\u001b[0;36m  File \u001b[0;32m\"<ipython-input-61-1e598a57219f>\"\u001b[0;36m, line \u001b[0;32m1\u001b[0m\n\u001b[0;31m    if 0 == 0:\u001b[0m\n\u001b[0m              ^\u001b[0m\n\u001b[0;31mSyntaxError\u001b[0m\u001b[0;31m:\u001b[0m unexpected EOF while parsing\n"
     ]
    }
   ],
   "source": [
    "if 0 == 0:"
   ]
  },
  {
   "cell_type": "code",
   "execution_count": 62,
   "metadata": {},
   "outputs": [],
   "source": [
    "if 0 == 0:\n",
    "    pass"
   ]
  },
  {
   "source": [
    "## 4. Application\n",
    "\n",
    "#### Find \"That's what she said\" in the 'scripts_the_office.csv'\n",
    "Additonally return the previous and current lines  \n",
    "NOTE: The external library *Pandas* would be easier for this, but we are focusing on the *Python Standard Library*\n"
   ],
   "cell_type": "markdown",
   "metadata": {}
  },
  {
   "source": [
    "1. Read the data from the csv\n",
    "2. Extract script data into a list\n",
    "3. Check for match statment  \n",
    "    3a. Return previous line and current line"
   ],
   "cell_type": "markdown",
   "metadata": {}
  },
  {
   "cell_type": "code",
   "execution_count": 63,
   "metadata": {},
   "outputs": [
    {
     "output_type": "stream",
     "name": "stdout",
     "text": [
      "<class '_csv.reader'>\n"
     ]
    }
   ],
   "source": [
    "import csv\n",
    "\n",
    "csvfile = open('the_office_data/scripts_the_office.csv')\n",
    "csvreader = csv.reader(csvfile)     # This reads the file\n",
    "print(type(csvreader))\n",
    "csvfile.close()     "
   ]
  },
  {
   "cell_type": "code",
   "execution_count": 64,
   "metadata": {},
   "outputs": [
    {
     "output_type": "stream",
     "name": "stdout",
     "text": [
      "['id', 'season', 'episode', 'scene', 'line_text', 'speaker', 'deleted']\n"
     ]
    }
   ],
   "source": [
    "csvfile = open('the_office_data/scripts_the_office.csv')\n",
    "csvreader = csv.reader(csvfile)\n",
    "for row in csvreader:\n",
    "    print(row)\n",
    "    break\n",
    "csvfile.close()   "
   ]
  },
  {
   "cell_type": "code",
   "execution_count": 65,
   "metadata": {},
   "outputs": [
    {
     "output_type": "stream",
     "name": "stdout",
     "text": [
      "line_text\n"
     ]
    }
   ],
   "source": [
    "csvfile = open('the_office_data/scripts_the_office.csv')\n",
    "csvreader = csv.reader(csvfile)\n",
    "for row in csvreader:\n",
    "    print(row[4])\n",
    "    break\n",
    "csvfile.close()  "
   ]
  },
  {
   "cell_type": "code",
   "execution_count": 66,
   "metadata": {},
   "outputs": [
    {
     "output_type": "execute_result",
     "data": {
      "text/plain": [
       "['line_text']"
      ]
     },
     "metadata": {},
     "execution_count": 66
    }
   ],
   "source": [
    "lines = []\n",
    "\n",
    "csvfile = open('the_office_data/scripts_the_office.csv')\n",
    "csvreader = csv.reader(csvfile)\n",
    "for row in csvreader:\n",
    "    lines.append(row[4])\n",
    "    break\n",
    "csvfile.close()\n",
    "\n",
    "lines"
   ]
  },
  {
   "cell_type": "code",
   "execution_count": 67,
   "metadata": {},
   "outputs": [
    {
     "output_type": "execute_result",
     "data": {
      "text/plain": [
       "('Actually, you called me in here, but yeah.', \"Well. I don't know.\")"
      ]
     },
     "metadata": {},
     "execution_count": 67
    }
   ],
   "source": [
    "import csv\n",
    "\n",
    "lines = []\n",
    "\n",
    "csvfile = open('the_office_data/scripts_the_office.csv')\n",
    "csvreader = csv.reader(csvfile) \n",
    "for row in csvreader:\n",
    "    lines.append(row[4])\n",
    "csvfile.close()\n",
    "\n",
    "lines[4], lines[8]"
   ]
  },
  {
   "cell_type": "code",
   "execution_count": 68,
   "metadata": {},
   "outputs": [
    {
     "output_type": "execute_result",
     "data": {
      "text/plain": [
       "59910"
      ]
     },
     "metadata": {},
     "execution_count": 68
    }
   ],
   "source": [
    "len(lines)"
   ]
  },
  {
   "cell_type": "code",
   "execution_count": 69,
   "metadata": {},
   "outputs": [
    {
     "output_type": "stream",
     "name": "stdout",
     "text": [
      "No, thanks. I'm good. \n That's what she said. Pam? \n\n\nDoes the skin look red and swollen? \n That's what she said. \n\n\nI have a ton of stuff to do for the wedding. And I have to do it in the office. And that can be kind of awkward. Um... just because people can get all weird about wedding stuff. Then... I just... I don't want to offend... Angela... or someone. \n That's what she said! \n\n\nYou already did me. \n That's what she said. [Jim mouths these words along with Michael] The thing is, Angela... you are in here an awful lot. You have complained about everybody in the office, except Dwight, which is odd because everyone else has had run ins with Dwight. Toby, by the way, what does 'redacted' mean? There is a file full of complaints in here marked 'redacted'... ? \n\n\nI mean, they're just dough twisted up with some candy. They taste so good in my mouth. \n That's what she said. [Stanley and Michael both laugh] \n\n\nThanks! I, I wanna give you something. \n Oh. [She whispers in his ear. Michael starts to laugh] That's what she said. \n\n\nOk, you know what? I want you to think about your future in this company. I want you to think about it long and hard. \n That's what she said. \n\n\nLet's just blow this party off. \n That's what she said. \n\n\nIt's a heart. \n Why is this so hard? That's what she said. Oh my God. What am I saying? \n\n\nYeah, I'm definitely gonna go alone. \n No, no.  I need two men on this.  That's what she said.  No time!  But she did.  NO TIME!  Guys, get on this.  Dwight, I want you to be in charge of the press conference. \n\n\nNo mustard! No mustard! Just... eat it. Eat it, Phyllis. Dip it in the water so it will slide down your gullet more easily. \n That's what she said! \n\n\nJim Halpert's off the market. Guess who just became the best looking single guy in the office? \n Hey. Can you make that straighter? That's what she said. \n\n\nWell, I don't think I'll be here in ten years. \n That's what I said. That's what she said. \n\n\nI never know. I just say it. I say stuff like that, you know, to lighten the tension. When things sort of get hard. \n That's what she said. \n\n\nAnd you were directly under her the entire time? \n That's what she said. \n\n\nExcuse me? \n That's what she said. \n\n\nWith all due respect, I'm in the middle of a line of questioning. Now Mr. Scott, what did you say Ms. Levinson said? Regarding your employment status with respect to her corporate position. \n Come again? That's what she said? I don't know what you're talking about. \n\n\nCan you go back to where this digression began? \n [reading off paper] Mr. Schneider: And you were directly under her the entire time? Mr. Scott: That's what she said. \n\n\nAnd... go. [Michael sticks his face in the cement] Force it in as deep as you can. \n [muffled] That's what she said. \n\n\n[sitting on a stack of paper] Yeah, well, if you're only free till three on Sunday and I can't get there till one, then it's gonna be pretty tight. \n [from his office] That's what she said. \n\n\nMichael. Don't. Don't. Don't make it harder than it has to be. \n That's what she said. \n\n\nDwight, get out of my nook! \n [in New York] That's what she said! That's what she said! That's what she said! \n\n\nAlright Dwight. This is huge. \n That's what she said! [David laughs] \n\n\nYou need to get back on top. \n That's what she said. \n\n\nMichael! You are making this harder than it has to be. \n [grimacing] That's what she said. [leaves] \n\n\nNo, no, no. And people don't understand that is has nothing to do with making fun of a different nationality. \n No, no. No, comedy is a place where the mind goes to tickle itself. That's what she said. [laughs]. [hugs Michaels] Ohh. \n\n\nI was in love with you. \n I'm not saying it won't be hard. But we can make it work. That's what she said. \n\n\nGot almost everybody. So... Holly's my family now. [you see video of Michael getting into the cab, and driving off. As the cab leaves, Pam drives in] She's my family. The babies that I make with her, will be my children. The people that you work with, are just... when you get down to it... your very best friends. They say, on your deathbed, you never wish you spent more time at the office. But I will. Gotta be a lot better than a deathbed. [You see Michael getting out and entering the airport, and going through security] I actually don't understand deathbeds. I mean, who would buy that? \n [putting his shoes back on, talking to the camera crew] Well, I guess this is it. Hey will you guys let me know if this ever airs? Thank you. Alright... Oh! [pulls out his mic from his shirt] This is gonna feel so good, getting this thing off my chest. [he hands them the body mic, when he speaks it is inaudible now] That's what she said! [waves goodbye and walks off to his gate, halfway there Pam comes running up to him and they hug for a while. They say their goodbyes to each other, and Michael walks off for good] \n\n\nWait! Wait. Hold on. Where���s the band? ���Cause there���s just no way you guys are making this magic with just your mouths. \n Yeah.  That's what she said. \n\n\n"
     ]
    },
    {
     "output_type": "execute_result",
     "data": {
      "text/plain": [
       "29"
      ]
     },
     "metadata": {},
     "execution_count": 69
    }
   ],
   "source": [
    "phrase = \"That's what she said\"\n",
    "phrase_count = 0\n",
    "\n",
    "for line in lines:\n",
    "    if phrase in line:\n",
    "        phrase_count += 1\n",
    "        print(previous_line, '\\n', line, '\\n\\n')\n",
    "    previous_line = line\n",
    "\n",
    "phrase_count"
   ]
  },
  {
   "cell_type": "code",
   "execution_count": 71,
   "metadata": {},
   "outputs": [
    {
     "output_type": "execute_result",
     "data": {
      "text/plain": [
       "[\"No, thanks. I'm good.\",\n",
       " 'Does the skin look red and swollen?',\n",
       " \"I have a ton of stuff to do for the wedding. And I have to do it in the office. And that can be kind of awkward. Um... just because people can get all weird about wedding stuff. Then... I just... I don't want to offend... Angela... or someone.\",\n",
       " 'You already did me.',\n",
       " \"I mean, they're just dough twisted up with some candy. They taste so good in my mouth.\",\n",
       " 'Thanks! I, I wanna give you something.',\n",
       " 'Ok, you know what? I want you to think about your future in this company. I want you to think about it long and hard.',\n",
       " \"Let's just blow this party off.\",\n",
       " \"It's a heart.\",\n",
       " \"Yeah, I'm definitely gonna go alone.\",\n",
       " 'No mustard! No mustard! Just... eat it. Eat it, Phyllis. Dip it in the water so it will slide down your gullet more easily.',\n",
       " \"Jim Halpert's off the market. Guess who just became the best looking single guy in the office?\",\n",
       " \"Well, I don't think I'll be here in ten years.\",\n",
       " 'I never know. I just say it. I say stuff like that, you know, to lighten the tension. When things sort of get hard.',\n",
       " 'And you were directly under her the entire time?',\n",
       " 'Excuse me?',\n",
       " \"With all due respect, I'm in the middle of a line of questioning. Now Mr. Scott, what did you say Ms. Levinson said? Regarding your employment status with respect to her corporate position.\",\n",
       " 'Can you go back to where this digression began?',\n",
       " 'And... go. [Michael sticks his face in the cement] Force it in as deep as you can.',\n",
       " \"[sitting on a stack of paper] Yeah, well, if you're only free till three on Sunday and I can't get there till one, then it's gonna be pretty tight.\",\n",
       " \"Michael. Don't. Don't. Don't make it harder than it has to be.\",\n",
       " 'Dwight, get out of my nook!',\n",
       " 'Alright Dwight. This is huge.',\n",
       " 'You need to get back on top.',\n",
       " 'Michael! You are making this harder than it has to be.',\n",
       " \"No, no, no. And people don't understand that is has nothing to do with making fun of a different nationality.\",\n",
       " 'I was in love with you.',\n",
       " \"Got almost everybody. So... Holly's my family now. [you see video of Michael getting into the cab, and driving off. As the cab leaves, Pam drives in] She's my family. The babies that I make with her, will be my children. The people that you work with, are just... when you get down to it... your very best friends. They say, on your deathbed, you never wish you spent more time at the office. But I will. Gotta be a lot better than a deathbed. [You see Michael getting out and entering the airport, and going through security] I actually don't understand deathbeds. I mean, who would buy that?\",\n",
       " 'Wait! Wait. Hold on. Where���s the band? ���Cause there���s just no way you guys are making this magic with just your mouths.']"
      ]
     },
     "metadata": {},
     "execution_count": 71
    }
   ],
   "source": [
    "phrase = \"That's what she said\"\n",
    "phrase_count = 0\n",
    "she_said = []\n",
    "\n",
    "for line in lines:\n",
    "    if phrase in line:\n",
    "        she_said.append(previous_line)\n",
    "    previous_line = line\n",
    "    \n",
    "she_said"
   ]
  },
  {
   "cell_type": "code",
   "execution_count": null,
   "metadata": {},
   "outputs": [],
   "source": []
  }
 ]
}