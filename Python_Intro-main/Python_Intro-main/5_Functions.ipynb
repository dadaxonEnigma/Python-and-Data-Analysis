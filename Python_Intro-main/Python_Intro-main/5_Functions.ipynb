{
 "metadata": {
  "language_info": {
   "codemirror_mode": {
    "name": "ipython",
    "version": 3
   },
   "file_extension": ".py",
   "mimetype": "text/x-python",
   "name": "python",
   "nbconvert_exporter": "python",
   "pygments_lexer": "ipython3",
   "version": "3.8.5-final"
  },
  "orig_nbformat": 2,
  "kernelspec": {
   "name": "python3",
   "display_name": "Python 3.8.5 64-bit ('theOffice': conda)",
   "metadata": {
    "interpreter": {
     "hash": "02ec444048bf9ee1506b560b7ff874803d05cc3ea4989a1a342e8b1b8adcfb7a"
    }
   }
  }
 },
 "nbformat": 4,
 "nbformat_minor": 2,
 "cells": [
  {
   "source": [
    "# Functions - def function()\n",
    "  \n",
    "## 0. Background and Overview\n",
    "\n",
    "Functions are a way to maintain the principle of DRY - \"Don't Repeat Yourself\".  Less repetiton leads to less mistakes in code.   \n",
    "\n",
    "### For this we will cover:\n",
    "\n",
    "### 1. Function Use Case\n",
    "\n",
    "### 2. Built-in Function\n",
    "    \n",
    "### 3. User-defined Function Basics\n",
    "e.g., pass, arguments, return\n",
    "\n",
    "### 4. User-defined Function Advanced\n",
    "e.g., *args, **kwargs"
   ],
   "cell_type": "markdown",
   "metadata": {}
  },
  {
   "source": [
    "## 1. Function Use Case\n",
    "\n",
    "#### Let's say I have a notebook where I routinely have to evaluate if a list contains even numbers."
   ],
   "cell_type": "markdown",
   "metadata": {}
  },
  {
   "cell_type": "code",
   "execution_count": 8,
   "metadata": {},
   "outputs": [
    {
     "output_type": "stream",
     "name": "stdout",
     "text": [
      "List of sales is NOT all even numbers\n"
     ]
    }
   ],
   "source": [
    "dwight_sales = [100, 120, 135, 110, 111]\n",
    "\n",
    "# The following code checks if number is even\n",
    "for num in dwight_sales:\n",
    "    # Don't worry about code, just focus on general idea\n",
    "    if num % 2 != 0:\n",
    "        # If there is a single odd number, loop ends\n",
    "        print(\"List of sales is NOT all even numbers\")\n",
    "        break   \n",
    "    elif num % 2 == 0 and dwight_sales[-1] == num:\n",
    "        # elif all even numbers and  this is  the last number\n",
    "        print(\"List is even numbers\") \n",
    "    else:\n",
    "        continue"
   ]
  },
  {
   "cell_type": "code",
   "execution_count": 11,
   "metadata": {},
   "outputs": [
    {
     "output_type": "stream",
     "name": "stdout",
     "text": [
      "List is even numbers\n"
     ]
    }
   ],
   "source": [
    "jim_sales = [200, 204, 180, 300, 220, 182]\n",
    "\n",
    "for num in jim_sales:       #To reuse change list variable\n",
    "    if num % 2 != 0:\n",
    "        print(\"List of sales is NOT all even numbers\")\n",
    "        break\n",
    "    elif num % 2 == 0 and jim_sales[-1] == num: #Also change this here\n",
    "        print(\"List is even numbers\")\n",
    "    else:\n",
    "        continue\n",
    "    "
   ]
  },
  {
   "cell_type": "code",
   "execution_count": 12,
   "metadata": {},
   "outputs": [],
   "source": [
    "kevin_sales = [4, 8, -1, 11, -5]\n",
    "\n",
    "# You get the idea...\n"
   ]
  },
  {
   "source": [
    "#### A better solution"
   ],
   "cell_type": "markdown",
   "metadata": {}
  },
  {
   "cell_type": "code",
   "execution_count": 18,
   "metadata": {},
   "outputs": [],
   "source": [
    "def even_checker(list):\n",
    "    for num in list:\n",
    "        if num % 2 != 0:\n",
    "            print(list, \" is NOT all even numbers\")\n",
    "            break\n",
    "        elif num % 2 == 0 and list[-1] == num:\n",
    "            print(list, \" is all even numbers\")\n",
    "        else:\n",
    "            continue"
   ]
  },
  {
   "cell_type": "code",
   "execution_count": 15,
   "metadata": {},
   "outputs": [
    {
     "output_type": "stream",
     "name": "stdout",
     "text": [
      "[100, 120, 135, 110, 111]  is NOT all even numbers\n"
     ]
    }
   ],
   "source": [
    "dwight_sales = [100, 120, 135, 110, 111]\n",
    "\n",
    "even_checker(dwight_sales)"
   ]
  },
  {
   "cell_type": "code",
   "execution_count": 126,
   "metadata": {},
   "outputs": [
    {
     "output_type": "stream",
     "name": "stdout",
     "text": [
      "[200, 204, 180, 300, 220]  is all even numbers\n"
     ]
    }
   ],
   "source": [
    "jim_sales = [200, 204, 180, 300, 220]\n",
    "\n",
    "even_checker(jim_sales)"
   ]
  },
  {
   "cell_type": "code",
   "execution_count": 17,
   "metadata": {},
   "outputs": [
    {
     "output_type": "stream",
     "name": "stdout",
     "text": [
      "[4, 8, -1, 11, -5]  is NOT all even numbers\n"
     ]
    }
   ],
   "source": [
    "kevin_sales = [4, 8, -1, 11, -5]\n",
    "\n",
    "even_checker(kevin_sales)"
   ]
  },
  {
   "source": [
    "## 2. Built-in Functions\n",
    "\n",
    "#### Find all built-in functions [here.](https://docs.python.org/3/library/functions.html)"
   ],
   "cell_type": "markdown",
   "metadata": {}
  },
  {
   "cell_type": "code",
   "execution_count": 39,
   "metadata": {},
   "outputs": [
    {
     "output_type": "stream",
     "name": "stdout",
     "text": [
      "Hello Dunder Mifflin\n"
     ]
    }
   ],
   "source": [
    "print(\"Hello Dunder Mifflin\")"
   ]
  },
  {
   "cell_type": "code",
   "execution_count": 40,
   "metadata": {},
   "outputs": [
    {
     "output_type": "execute_result",
     "data": {
      "text/plain": [
       "1"
      ]
     },
     "metadata": {},
     "execution_count": 40
    }
   ],
   "source": [
    "abs(-1)"
   ]
  },
  {
   "cell_type": "code",
   "execution_count": 40,
   "metadata": {},
   "outputs": [
    {
     "output_type": "stream",
     "name": "stdout",
     "text": [
      "Help on built-in function abs in module builtins:\n\nabs(x, /)\n    Return the absolute value of the argument.\n\n"
     ]
    }
   ],
   "source": [
    "help(abs)"
   ]
  },
  {
   "source": [
    "## 3. User-defined Function Basics \n",
    "\n",
    "#### Structure of function\n",
    "```python\n",
    "def function(optional_variables):  # def is short for define\n",
    "    (code to execute)\n",
    "    return (object to return) # optional\n",
    "```\n",
    "\n"
   ],
   "cell_type": "markdown",
   "metadata": {}
  },
  {
   "cell_type": "code",
   "execution_count": 23,
   "metadata": {},
   "outputs": [
    {
     "output_type": "execute_result",
     "data": {
      "text/plain": [
       "<function __main__.simplest_function()>"
      ]
     },
     "metadata": {},
     "execution_count": 23
    }
   ],
   "source": [
    "def simplest_function():\n",
    "    pass\n",
    "\n",
    "simplest_function"
   ]
  },
  {
   "cell_type": "code",
   "execution_count": 24,
   "metadata": {},
   "outputs": [
    {
     "output_type": "stream",
     "name": "stdout",
     "text": [
      "Good Morning, Dunder Mifflin\n"
     ]
    }
   ],
   "source": [
    "def simpler_function():\n",
    "    print(\"Good Morning, Dunder Mifflin\")\n",
    "\n",
    "simpler_function()"
   ]
  },
  {
   "cell_type": "code",
   "execution_count": 26,
   "metadata": {},
   "outputs": [
    {
     "output_type": "execute_result",
     "data": {
      "text/plain": [
       "<function __main__.simple_function(text_to_print)>"
      ]
     },
     "metadata": {},
     "execution_count": 26
    }
   ],
   "source": [
    "text_to_print = \"Good Morning, Dunder Mifflin\"\n",
    "\n",
    "def simple_function(text_to_print):\n",
    "    print(text_to_print)\n",
    "\n",
    "simple_function"
   ]
  },
  {
   "cell_type": "code",
   "execution_count": 32,
   "metadata": {},
   "outputs": [
    {
     "output_type": "stream",
     "name": "stdout",
     "text": [
      "Good Morning Dunder Mifflin\n"
     ]
    }
   ],
   "source": [
    "def multi_var_function(greeting, company):\n",
    "    print(greeting, company)\n",
    "\n",
    "x = \"Good Morning\"\n",
    "y = \"Dunder Mifflin\"\n",
    "\n",
    "multi_var_function(x, y)"
   ]
  },
  {
   "cell_type": "code",
   "execution_count": 33,
   "metadata": {},
   "outputs": [
    {
     "output_type": "stream",
     "name": "stdout",
     "text": [
      "Good Morning Dunder Mifflin\n"
     ]
    }
   ],
   "source": [
    "def assign_var_function(greeting, company=\"Dunder Mifflin\"):\n",
    "    print(greeting, company)\n",
    "\n",
    "greet = \"Good Morning\"\n",
    "\n",
    "assign_var_function(greet)"
   ]
  },
  {
   "cell_type": "code",
   "execution_count": 34,
   "metadata": {},
   "outputs": [
    {
     "output_type": "stream",
     "name": "stdout",
     "text": [
      "Good Evening Prince Paper\n"
     ]
    }
   ],
   "source": [
    "greet = \"Good Evening\"\n",
    "competitor = \"Prince Paper\"\n",
    "\n",
    "assign_var_function(greet, competitor)"
   ]
  },
  {
   "cell_type": "code",
   "execution_count": 91,
   "metadata": {},
   "outputs": [
    {
     "output_type": "execute_result",
     "data": {
      "text/plain": [
       "26"
      ]
     },
     "metadata": {},
     "execution_count": 91
    }
   ],
   "source": [
    "def return_var_function(greeting, company=\"Dunder Mifflin\"):\n",
    "    return len(greeting) + len(company)\n",
    "\n",
    "value = return_var_function(\"Good Morning\")\n",
    "value"
   ]
  },
  {
   "source": [
    "## 4. User-defined Function Advanced  \n",
    "\n",
    "#### The unpack operator for iterables *"
   ],
   "cell_type": "markdown",
   "metadata": {}
  },
  {
   "cell_type": "code",
   "execution_count": 76,
   "metadata": {},
   "outputs": [],
   "source": [
    "def add_sales(sale_list):\n",
    "    return sum(sale_list)"
   ]
  },
  {
   "cell_type": "code",
   "execution_count": 77,
   "metadata": {},
   "outputs": [
    {
     "output_type": "execute_result",
     "data": {
      "text/plain": [
       "576"
      ]
     },
     "metadata": {},
     "execution_count": 77
    }
   ],
   "source": [
    "dwight_sales = [100, 120, 135, 110, 111]\n",
    "\n",
    "add_sales(dwight_sales)\n"
   ]
  },
  {
   "cell_type": "code",
   "execution_count": 78,
   "metadata": {},
   "outputs": [
    {
     "output_type": "error",
     "ename": "TypeError",
     "evalue": "add_sales() takes 1 positional argument but 2 were given",
     "traceback": [
      "\u001b[0;31m---------------------------------------------------------------------------\u001b[0m",
      "\u001b[0;31mTypeError\u001b[0m                                 Traceback (most recent call last)",
      "\u001b[0;32m<ipython-input-78-362ca128b920>\u001b[0m in \u001b[0;36m<module>\u001b[0;34m\u001b[0m\n\u001b[1;32m      1\u001b[0m \u001b[0mjim_sales\u001b[0m \u001b[0;34m=\u001b[0m \u001b[0;34m[\u001b[0m\u001b[0;36m200\u001b[0m\u001b[0;34m,\u001b[0m \u001b[0;36m204\u001b[0m\u001b[0;34m,\u001b[0m \u001b[0;36m180\u001b[0m\u001b[0;34m,\u001b[0m \u001b[0;36m300\u001b[0m\u001b[0;34m,\u001b[0m \u001b[0;36m220\u001b[0m\u001b[0;34m]\u001b[0m\u001b[0;34m\u001b[0m\u001b[0;34m\u001b[0m\u001b[0m\n\u001b[1;32m      2\u001b[0m \u001b[0;34m\u001b[0m\u001b[0m\n\u001b[0;32m----> 3\u001b[0;31m \u001b[0madd_sales\u001b[0m\u001b[0;34m(\u001b[0m\u001b[0mdwight_sales\u001b[0m\u001b[0;34m,\u001b[0m \u001b[0mjim_sales\u001b[0m\u001b[0;34m)\u001b[0m\u001b[0;34m\u001b[0m\u001b[0;34m\u001b[0m\u001b[0m\n\u001b[0m",
      "\u001b[0;31mTypeError\u001b[0m: add_sales() takes 1 positional argument but 2 were given"
     ]
    }
   ],
   "source": [
    "jim_sales = [200, 204, 180, 300, 220]\n",
    "\n",
    "add_sales(dwight_sales, jim_sales)"
   ]
  },
  {
   "cell_type": "code",
   "execution_count": 87,
   "metadata": {},
   "outputs": [
    {
     "output_type": "stream",
     "name": "stdout",
     "text": [
      "([100, 120, 135, 110, 111], [200, 204, 180, 300, 220])\n[100, 120, 135, 110, 111] [200, 204, 180, 300, 220]\n"
     ]
    }
   ],
   "source": [
    "lists = dwight_sales, jim_sales\n",
    "print(lists)\n",
    "print(*lists)"
   ]
  },
  {
   "cell_type": "code",
   "execution_count": 83,
   "metadata": {},
   "outputs": [],
   "source": [
    "def add_sales(*sale_list):\n",
    "    value = 0\n",
    "    for sale in sale_list:\n",
    "        print(sale)\n",
    "        value += sum(sale)\n",
    "    return value"
   ]
  },
  {
   "source": [
    "The unpack operator * passes the values (lists here) as seperate arguments"
   ],
   "cell_type": "markdown",
   "metadata": {}
  },
  {
   "cell_type": "code",
   "execution_count": 88,
   "metadata": {},
   "outputs": [
    {
     "output_type": "stream",
     "name": "stdout",
     "text": [
      "[100, 120, 135, 110, 111]\n[200, 204, 180, 300, 220]\n[4, 8, -1, 11, -5]\n"
     ]
    },
    {
     "output_type": "execute_result",
     "data": {
      "text/plain": [
       "1697"
      ]
     },
     "metadata": {},
     "execution_count": 88
    }
   ],
   "source": [
    "add_sales(dwight_sales, jim_sales, kevin_sales)"
   ]
  },
  {
   "cell_type": "code",
   "execution_count": 55,
   "metadata": {},
   "outputs": [],
   "source": [
    "def arg_function(*args):    # The 'args' name is not required, but standard \n",
    "    return"
   ]
  },
  {
   "source": [
    "#### The unpack operator for dictionaries **"
   ],
   "cell_type": "markdown",
   "metadata": {}
  },
  {
   "cell_type": "code",
   "execution_count": 90,
   "metadata": {},
   "outputs": [],
   "source": [
    "def kwarg_function(**kwargs): # The 'kwargs' name is not required, but also standard practices\n",
    "    for key, value in kwargs.items():\n",
    "        print(key, ' : ', value)"
   ]
  },
  {
   "cell_type": "code",
   "execution_count": 93,
   "metadata": {},
   "outputs": [
    {
     "output_type": "stream",
     "name": "stdout",
     "text": [
      "reg_mang  :  Michael\nsales_rep  :  Jim\nreceptionist  :  Pam\n"
     ]
    }
   ],
   "source": [
    "kwarg_function(reg_mang = \"Michael\", sales_rep = \"Jim\", receptionist = \"Pam\")"
   ]
  },
  {
   "source": [
    "## 5. Application\n",
    "\n",
    "#### Count the lines of a given actor from the script (csv file) of \"The Office\""
   ],
   "cell_type": "markdown",
   "metadata": {}
  },
  {
   "source": [
    "1. Create a function that:  \n",
    "    1a. Open & Read the csv  \n",
    "    1b. Make list of times actor appears  \n",
    "    1c. Count the list  \n",
    "2. Feed the name(s) to that function."
   ],
   "cell_type": "markdown",
   "metadata": {}
  },
  {
   "cell_type": "code",
   "execution_count": 100,
   "metadata": {},
   "outputs": [
    {
     "output_type": "execute_result",
     "data": {
      "text/plain": [
       "6814"
      ]
     },
     "metadata": {},
     "execution_count": 100
    }
   ],
   "source": [
    "import csv\n",
    "\n",
    "actor = \"Michael\"\n",
    "\n",
    "def actor_counter(actor):\n",
    "    csvfile = open('the_office_data/scripts_the_office.csv')\n",
    "    csvreader = csv.reader(csvfile)     \n",
    "    list_actor = [row[5] for row in csvreader if row[5] == actor]\n",
    "    csvfile.close()\n",
    "    return len(list_actor)\n",
    "\n",
    "actor_counter(\"Jim\")"
   ]
  },
  {
   "cell_type": "code",
   "execution_count": null,
   "metadata": {},
   "outputs": [],
   "source": [
    "actor_list = ['Michael', 'Pam', 'Dwight', 'Angela', 'Kelly', 'Jim', 'Andy', 'Kevin', 'Phyllis', 'Meredith', 'Oscar' ]"
   ]
  },
  {
   "cell_type": "code",
   "execution_count": 101,
   "metadata": {},
   "outputs": [
    {
     "output_type": "execute_result",
     "data": {
      "text/plain": [
       "{'Michael': 12137,\n",
       " 'Pam': 5375,\n",
       " 'Dwight': 7529,\n",
       " 'Angela': 1695,\n",
       " 'Kelly': 956,\n",
       " 'Jim': 6814,\n",
       " 'Andy': 3968,\n",
       " 'Kevin': 1708,\n",
       " 'Phyllis': 1071,\n",
       " 'Meredith': 645,\n",
       " 'Oscar': 1490}"
      ]
     },
     "metadata": {},
     "execution_count": 101
    }
   ],
   "source": [
    "actor_dict = {}\n",
    "\n",
    "for actor in actor_list:\n",
    "    actor_dict[actor] = actor_counter(actor)\n",
    "\n",
    "actor_dict"
   ]
  },
  {
   "cell_type": "code",
   "execution_count": 105,
   "metadata": {},
   "outputs": [
    {
     "output_type": "execute_result",
     "data": {
      "text/plain": [
       "{'Meredith': 645,\n",
       " 'Kelly': 956,\n",
       " 'Phyllis': 1071,\n",
       " 'Oscar': 1490,\n",
       " 'Angela': 1695,\n",
       " 'Kevin': 1708,\n",
       " 'Andy': 3968,\n",
       " 'Pam': 5375,\n",
       " 'Jim': 6814,\n",
       " 'Dwight': 7529,\n",
       " 'Michael': 12137}"
      ]
     },
     "metadata": {},
     "execution_count": 105
    }
   ],
   "source": [
    "{key: value for key, value in sorted(actor_dict.items(), key=lambda item: item[1])}"
   ]
  }
 ]
}