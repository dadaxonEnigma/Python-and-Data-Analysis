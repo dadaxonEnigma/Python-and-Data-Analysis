{
 "metadata": {
  "language_info": {
   "codemirror_mode": {
    "name": "ipython",
    "version": 3
   },
   "file_extension": ".py",
   "mimetype": "text/x-python",
   "name": "python",
   "nbconvert_exporter": "python",
   "pygments_lexer": "ipython3",
   "version": "3.8.5-final"
  },
  "orig_nbformat": 2,
  "kernelspec": {
   "name": "python3",
   "display_name": "Python 3"
  }
 },
 "nbformat": 4,
 "nbformat_minor": 2,
 "cells": [
  {
   "source": [
    "# Lambda Functions aka Anonymous Functions\n",
    "  \n",
    "## 0. Background and Overview\n",
    "\n",
    "Sometimes you need a function to handle a task, but don't want to take up multiple lines of code to do one simple task.  I present you... Lambda Functions\n",
    "\n",
    "### For this we will cover:\n",
    "\n",
    "### 1. Lambda Typical Use Case\n",
    "\n",
    "### 2. Lambda Basics\n",
    "    \n",
    "### 3. Lambda Application\n",
    "e.g., map, reduce"
   ],
   "cell_type": "markdown",
   "metadata": {}
  },
  {
   "source": [
    "## 1. Lambda Typical Use Case\n",
    "\n",
    "In the last video on 'functions', we found the number of lines an actor had by analyzing 'The Office' script dataset.\n"
   ],
   "cell_type": "markdown",
   "metadata": {}
  },
  {
   "cell_type": "code",
   "execution_count": 2,
   "metadata": {},
   "outputs": [],
   "source": [
    "actor_lines = {'Michael': 12137,\n",
    " 'Pam': 5375,\n",
    " 'Dwight': 7529,\n",
    " 'Angela': 1695,\n",
    " 'Kelly': 956,\n",
    " 'Jim': 6814,\n",
    " 'Andy': 3968,\n",
    " 'Kevin': 1708,\n",
    " 'Phyllis': 1071,\n",
    " 'Meredith': 645,\n",
    " 'Oscar': 1490}"
   ]
  },
  {
   "source": [
    "We can use the sorted() function to sort this by the values:\n",
    "```python\n",
    "sorted((iterable), key=(function))\n",
    "```\n",
    "\n",
    "### The iterable"
   ],
   "cell_type": "markdown",
   "metadata": {}
  },
  {
   "cell_type": "code",
   "execution_count": 3,
   "metadata": {},
   "outputs": [
    {
     "output_type": "execute_result",
     "data": {
      "text/plain": [
       "{'Michael': 12137,\n",
       " 'Pam': 5375,\n",
       " 'Dwight': 7529,\n",
       " 'Angela': 1695,\n",
       " 'Kelly': 956,\n",
       " 'Jim': 6814,\n",
       " 'Andy': 3968,\n",
       " 'Kevin': 1708,\n",
       " 'Phyllis': 1071,\n",
       " 'Meredith': 645,\n",
       " 'Oscar': 1490}"
      ]
     },
     "metadata": {},
     "execution_count": 3
    }
   ],
   "source": [
    "actor_lines"
   ]
  },
  {
   "cell_type": "code",
   "execution_count": 4,
   "metadata": {},
   "outputs": [
    {
     "output_type": "execute_result",
     "data": {
      "text/plain": [
       "dict_items([('Michael', 12137), ('Pam', 5375), ('Dwight', 7529), ('Angela', 1695), ('Kelly', 956), ('Jim', 6814), ('Andy', 3968), ('Kevin', 1708), ('Phyllis', 1071), ('Meredith', 645), ('Oscar', 1490)])"
      ]
     },
     "metadata": {},
     "execution_count": 4
    }
   ],
   "source": [
    "actor_lines.items()"
   ]
  },
  {
   "cell_type": "code",
   "execution_count": null,
   "metadata": {},
   "outputs": [],
   "source": []
  },
  {
   "cell_type": "code",
   "execution_count": 20,
   "metadata": {},
   "outputs": [
    {
     "output_type": "execute_result",
     "data": {
      "text/plain": [
       "dict_items([('Michael', 12137), ('Pam', 5375), ('Dwight', 7529), ('Angela', 1695), ('Kelly', 956), ('Jim', 6814), ('Andy', 3968), ('Kevin', 1708), ('Phyllis', 1071), ('Meredith', 645), ('Oscar', 1490)])"
      ]
     },
     "metadata": {},
     "execution_count": 20
    }
   ],
   "source": [
    "actor_lines.items()"
   ]
  },
  {
   "source": [
    "### Option 1: Sort with a function"
   ],
   "cell_type": "markdown",
   "metadata": {}
  },
  {
   "cell_type": "code",
   "execution_count": 6,
   "metadata": {},
   "outputs": [
    {
     "output_type": "execute_result",
     "data": {
      "text/plain": [
       "[('Michael', 12137),\n",
       " ('Dwight', 7529),\n",
       " ('Jim', 6814),\n",
       " ('Pam', 5375),\n",
       " ('Andy', 3968),\n",
       " ('Kevin', 1708),\n",
       " ('Angela', 1695),\n",
       " ('Oscar', 1490),\n",
       " ('Phyllis', 1071),\n",
       " ('Kelly', 956),\n",
       " ('Meredith', 645)]"
      ]
     },
     "metadata": {},
     "execution_count": 6
    }
   ],
   "source": [
    "def get_values(item):\n",
    "    return item[1]\n",
    "\n",
    "sorted(actor_lines.items(), key=get_values, reverse=True)"
   ]
  },
  {
   "source": [
    "### Option 2: Sort with a lambda function (& sorted())"
   ],
   "cell_type": "markdown",
   "metadata": {}
  },
  {
   "cell_type": "code",
   "execution_count": 8,
   "metadata": {},
   "outputs": [
    {
     "output_type": "execute_result",
     "data": {
      "text/plain": [
       "[('Michael', 12137),\n",
       " ('Dwight', 7529),\n",
       " ('Jim', 6814),\n",
       " ('Pam', 5375),\n",
       " ('Andy', 3968),\n",
       " ('Kevin', 1708),\n",
       " ('Angela', 1695),\n",
       " ('Oscar', 1490),\n",
       " ('Phyllis', 1071),\n",
       " ('Kelly', 956),\n",
       " ('Meredith', 645)]"
      ]
     },
     "metadata": {},
     "execution_count": 8
    }
   ],
   "source": [
    "sorted(actor_lines.items(), key=lambda item: item[1], reverse=True)\n",
    "# One line of code and more readable"
   ]
  },
  {
   "source": [
    "For those curious this is how you would use dictionary comprehension to convert back into a dictionary"
   ],
   "cell_type": "markdown",
   "metadata": {}
  },
  {
   "cell_type": "code",
   "execution_count": 5,
   "metadata": {},
   "outputs": [
    {
     "output_type": "execute_result",
     "data": {
      "text/plain": [
       "{'Michael': 12137,\n",
       " 'Dwight': 7529,\n",
       " 'Jim': 6814,\n",
       " 'Pam': 5375,\n",
       " 'Andy': 3968,\n",
       " 'Kevin': 1708,\n",
       " 'Angela': 1695,\n",
       " 'Oscar': 1490,\n",
       " 'Phyllis': 1071,\n",
       " 'Kelly': 956,\n",
       " 'Meredith': 645}"
      ]
     },
     "metadata": {},
     "execution_count": 5
    }
   ],
   "source": [
    "{key: value for key, value in sorted(actor_lines.items(), key=lambda item: item[1], reverse=True)}"
   ]
  },
  {
   "source": [
    "## 2. Lambda Basics"
   ],
   "cell_type": "markdown",
   "metadata": {}
  },
  {
   "cell_type": "code",
   "execution_count": 12,
   "metadata": {},
   "outputs": [],
   "source": [
    "def return_number_v1(num):\n",
    "    return num"
   ]
  },
  {
   "cell_type": "code",
   "execution_count": 13,
   "metadata": {},
   "outputs": [
    {
     "output_type": "execute_result",
     "data": {
      "text/plain": [
       "1"
      ]
     },
     "metadata": {},
     "execution_count": 13
    }
   ],
   "source": [
    "return_number_v1(1)"
   ]
  },
  {
   "cell_type": "code",
   "execution_count": 15,
   "metadata": {},
   "outputs": [],
   "source": [
    "return_number_v2 = lambda num: num"
   ]
  },
  {
   "cell_type": "code",
   "execution_count": 16,
   "metadata": {},
   "outputs": [
    {
     "output_type": "execute_result",
     "data": {
      "text/plain": [
       "112"
      ]
     },
     "metadata": {},
     "execution_count": 16
    }
   ],
   "source": [
    "return_number_v2(112)"
   ]
  },
  {
   "cell_type": "code",
   "execution_count": 17,
   "metadata": {},
   "outputs": [
    {
     "output_type": "execute_result",
     "data": {
      "text/plain": [
       "36"
      ]
     },
     "metadata": {},
     "execution_count": 17
    }
   ],
   "source": [
    "(lambda num: num)(36)"
   ]
  },
  {
   "cell_type": "code",
   "execution_count": 18,
   "metadata": {},
   "outputs": [],
   "source": [
    "add = lambda x, y: x + y"
   ]
  },
  {
   "cell_type": "code",
   "execution_count": 19,
   "metadata": {},
   "outputs": [
    {
     "output_type": "execute_result",
     "data": {
      "text/plain": [
       "10"
      ]
     },
     "metadata": {},
     "execution_count": 19
    }
   ],
   "source": [
    "add(4, 6)"
   ]
  },
  {
   "cell_type": "code",
   "execution_count": 34,
   "metadata": {},
   "outputs": [
    {
     "output_type": "execute_result",
     "data": {
      "text/plain": [
       "'Jim'"
      ]
     },
     "metadata": {},
     "execution_count": 34
    }
   ],
   "source": [
    "actor_list = ['Michael', 'Pam', 'Jim', 'Dwight']\n",
    "\n",
    "get_third = lambda list: list[2]    # Python indexed at 0\n",
    "\n",
    "get_third(actor_list)"
   ]
  },
  {
   "source": [
    "### Applying back to the use case in section 1"
   ],
   "cell_type": "markdown",
   "metadata": {}
  },
  {
   "cell_type": "code",
   "execution_count": 35,
   "metadata": {},
   "outputs": [
    {
     "output_type": "execute_result",
     "data": {
      "text/plain": [
       "dict_items([('Michael', 12137), ('Pam', 5375), ('Dwight', 7529), ('Angela', 1695), ('Kelly', 956), ('Jim', 6814), ('Andy', 3968), ('Kevin', 1708), ('Phyllis', 1071), ('Meredith', 645), ('Oscar', 1490)])"
      ]
     },
     "metadata": {},
     "execution_count": 35
    }
   ],
   "source": [
    "# Recall items() method returns a dictionary as an iterable\n",
    "actor_lines.items()     "
   ]
  },
  {
   "cell_type": "code",
   "execution_count": 80,
   "metadata": {},
   "outputs": [
    {
     "output_type": "execute_result",
     "data": {
      "text/plain": [
       "('Michael', 12137)"
      ]
     },
     "metadata": {},
     "execution_count": 80
    }
   ],
   "source": [
    "# Looking at the first item of the iterable\n",
    "michael_lines = list(actor_lines.items())[0]\n",
    "michael_lines"
   ]
  },
  {
   "cell_type": "code",
   "execution_count": 81,
   "metadata": {},
   "outputs": [
    {
     "output_type": "execute_result",
     "data": {
      "text/plain": [
       "12137"
      ]
     },
     "metadata": {},
     "execution_count": 81
    }
   ],
   "source": [
    "# lambda to get the 2nd item in the tuple\n",
    "get_value = lambda tuple : tuple[1]\n",
    "\n",
    "get_value(michael_lines)"
   ]
  },
  {
   "cell_type": "code",
   "execution_count": 82,
   "metadata": {},
   "outputs": [
    {
     "output_type": "execute_result",
     "data": {
      "text/plain": [
       "[('Meredith', 645),\n",
       " ('Kelly', 956),\n",
       " ('Phyllis', 1071),\n",
       " ('Oscar', 1490),\n",
       " ('Angela', 1695),\n",
       " ('Kevin', 1708),\n",
       " ('Andy', 3968),\n",
       " ('Pam', 5375),\n",
       " ('Jim', 6814),\n",
       " ('Dwight', 7529),\n",
       " ('Michael', 12137)]"
      ]
     },
     "metadata": {},
     "execution_count": 82
    }
   ],
   "source": [
    "# Sorted uses the second argument 'key' (obtained by lambda) to sort the list (actor_lines)\n",
    "sorted(actor_lines.items(), key=lambda item: item[1])"
   ]
  },
  {
   "source": [
    "## 3. Applicatiion\n",
    "\n",
    "3a. With a list of numbers extract out only odd numbers  \n",
    "3b. With a list of phrases, add a token statement"
   ],
   "cell_type": "markdown",
   "metadata": {}
  },
  {
   "source": [
    "### 3a. With a list of numbers extract out only odd numbers  \n",
    "Use filter() to extract values from a list:\n",
    "\n",
    "```python\n",
    "filter(function, iterable)\n",
    "```\n",
    "\n",
    "Filters an iterable for values of a function returned as True"
   ],
   "cell_type": "markdown",
   "metadata": {}
  },
  {
   "cell_type": "code",
   "execution_count": 28,
   "metadata": {},
   "outputs": [],
   "source": [
    "dwight_sales = [192, 156, 222, 224, 226, 176, 193, 244, 238, 156, 249, 222, 173, 240, 230, 183, 174, 177, 214, 184]"
   ]
  },
  {
   "cell_type": "code",
   "execution_count": 30,
   "metadata": {},
   "outputs": [
    {
     "output_type": "execute_result",
     "data": {
      "text/plain": [
       "[193, 249, 173, 183, 177]"
      ]
     },
     "metadata": {},
     "execution_count": 30
    }
   ],
   "source": [
    "list(filter(lambda number: number % 2 == 1, dwight_sales))"
   ]
  },
  {
   "source": [
    "### 3b. With a list of phrases, add a token statement  \n",
    "\n",
    "Use map() to perform an operation on each item of a list:\n",
    "```python\n",
    "map(function, iterable)\n",
    "```\n",
    "Remaps a list to apply a function to each iterable"
   ],
   "cell_type": "markdown",
   "metadata": {}
  },
  {
   "cell_type": "code",
   "execution_count": 31,
   "metadata": {},
   "outputs": [],
   "source": [
    "she_said = [\"No, thanks. I'm good.\",\n",
    " 'Does the skin look red and swollen?',\n",
    " 'You already did me.',\n",
    " \"I mean, they're just dough twisted up with some candy. They taste so good in my mouth.\",\n",
    " 'Thanks! I, I wanna give you something.',\n",
    " \"Let's just blow this party off.\",\n",
    " \"Yeah, I'm definitely gonna go alone.\",\n",
    " \"Well, I don't think I'll be here in ten years.\",\n",
    " 'And you were directly under her the entire time?',\n",
    " 'Excuse me?',\n",
    " 'Can you go back to where this digression began?',\n",
    " 'And... go. [Michael sticks his face in the cement] Force it in as deep as you can.',\n",
    " \"[sitting on a stack of paper] Yeah, well, if you're only free till three on Sunday and I can't get there till one, then it's gonna be pretty tight.\",\n",
    " \"Michael. Don't. Don't. Don't make it harder than it has to be.\",\n",
    " 'Dwight, get out of my nook!',\n",
    " 'Alright Dwight. This is huge.',\n",
    " 'You need to get back on top.',\n",
    " 'Michael! You are making this harder than it has to be.',\n",
    " 'I was in love with you.']"
   ]
  },
  {
   "cell_type": "code",
   "execution_count": 33,
   "metadata": {},
   "outputs": [
    {
     "output_type": "execute_result",
     "data": {
      "text/plain": [
       "[\"No, thanks. I'm good. That's what she said\",\n",
       " \"Does the skin look red and swollen? That's what she said\",\n",
       " \"You already did me. That's what she said\",\n",
       " \"I mean, they're just dough twisted up with some candy. They taste so good in my mouth. That's what she said\",\n",
       " \"Thanks! I, I wanna give you something. That's what she said\",\n",
       " \"Let's just blow this party off. That's what she said\",\n",
       " \"Yeah, I'm definitely gonna go alone. That's what she said\",\n",
       " \"Well, I don't think I'll be here in ten years. That's what she said\",\n",
       " \"And you were directly under her the entire time? That's what she said\",\n",
       " \"Excuse me? That's what she said\",\n",
       " \"Can you go back to where this digression began? That's what she said\",\n",
       " \"And... go. [Michael sticks his face in the cement] Force it in as deep as you can. That's what she said\",\n",
       " \"[sitting on a stack of paper] Yeah, well, if you're only free till three on Sunday and I can't get there till one, then it's gonna be pretty tight. That's what she said\",\n",
       " \"Michael. Don't. Don't. Don't make it harder than it has to be. That's what she said\",\n",
       " \"Dwight, get out of my nook! That's what she said\",\n",
       " \"Alright Dwight. This is huge. That's what she said\",\n",
       " \"You need to get back on top. That's what she said\",\n",
       " \"Michael! You are making this harder than it has to be. That's what she said\",\n",
       " \"I was in love with you. That's what she said\"]"
      ]
     },
     "metadata": {},
     "execution_count": 33
    }
   ],
   "source": [
    "list(map(lambda string: string + \" That's what she said\", she_said))"
   ]
  }
 ]
}